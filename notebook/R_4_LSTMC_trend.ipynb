{
 "cells": [
  {
   "cell_type": "code",
   "execution_count": 1,
   "metadata": {},
   "outputs": [
    {
     "name": "stderr",
     "output_type": "stream",
     "text": [
      "/Applications/anaconda3/lib/python3.9/site-packages/scipy/__init__.py:146: UserWarning: A NumPy version >=1.16.5 and <1.23.0 is required for this version of SciPy (detected version 1.23.5\n",
      "  warnings.warn(f\"A NumPy version >={np_minversion} and <{np_maxversion}\"\n"
     ]
    }
   ],
   "source": [
    "import sys\n",
    "import os\n",
    "import pickle\n",
    "import pandas as pd\n",
    "import json\n",
    "import datetime\n",
    "import time\n",
    "import copy\n",
    "import numpy as np\n",
    "\n",
    "py_file_location = '../PrivatePackages'\n",
    "sys.path.append(os.path.abspath(py_file_location))\n",
    "from sklearn.model_selection import train_test_split\n",
    "\n",
    "import JiaoCheng\n",
    "import NingXiang"
   ]
  },
  {
   "cell_type": "code",
   "execution_count": 2,
   "metadata": {},
   "outputs": [],
   "source": [
    "LABEL = 'trend'\n",
    "MODEL = 'lstmc'"
   ]
  },
  {
   "cell_type": "code",
   "execution_count": 3,
   "metadata": {},
   "outputs": [],
   "source": [
    "curated_data = pd.read_csv('../data/curated_data.csv')\n",
    "curated_data = curated_data[['date', \n",
    "                        'stock',\n",
    "                        'trend',\n",
    "                        'closePrice_lag_1', \n",
    "                        'log_ret_normalised_by_day_lag_1', \n",
    "                        'closePriceNorm_lag_1', \n",
    "                        'log_ret_lag_1', \n",
    "                        'mean_log_ret_lag_1',\n",
    "                        'mean_closePrice_lag_1',\n",
    "                        'mean_closePriceNorm_lag_1',\n",
    "                        'mean_log_ret_normalised_by_day_lag_1', \n",
    "                        'pos_log_ret_lag_1',\n",
    "                        'pos_closePrice_lag_1',\n",
    "                        'pos_closePriceNorm_lag_1',\n",
    "                        'pos_log_ret_normalised_by_day_lag_1']]\n",
    "curated_data['date'] = pd.to_datetime(curated_data['date'])"
   ]
  },
  {
   "cell_type": "code",
   "execution_count": 4,
   "metadata": {},
   "outputs": [],
   "source": [
    "date = [datetime.datetime(year=2022, month=12, day = 31) + datetime.timedelta(days=i) for i in range(250)]\n",
    "val_date_start = date[175]\n",
    "test_date_start = date[175+38]"
   ]
  },
  {
   "cell_type": "code",
   "execution_count": 5,
   "metadata": {},
   "outputs": [],
   "source": [
    "curated_data['date'] = pd.to_datetime(curated_data['date'])\n",
    "curated_data = curated_data.dropna()\n",
    "\n",
    "train = curated_data[(curated_data['date'] < val_date_start)]\n",
    "val = curated_data[(curated_data['date'] < test_date_start) & (curated_data['date'] >= val_date_start)]\n",
    "test = curated_data[(curated_data['date'] >= test_date_start)]"
   ]
  },
  {
   "cell_type": "code",
   "execution_count": 6,
   "metadata": {},
   "outputs": [],
   "source": [
    "def data_factory(data, lag):\n",
    "    x_list, y_list = list(), list()\n",
    "\n",
    "    for id, stock_data in data.groupby('stock'):\n",
    "        stock_data.sort_values(by='date', inplace=True)\n",
    "        stock_data.drop(['stock', 'date'], axis=1, inplace=True)\n",
    "        stock_data.index = range(len(stock_data))\n",
    "\n",
    "        for i in range(len(stock_data)):\n",
    "            \n",
    "            if i < lag-1:\n",
    "                continue\n",
    "\n",
    "            x = stock_data.iloc[i-lag+1:i+1].values.copy()\n",
    "            x[-1:, 0] = 0 # mask last day's return\n",
    "            y = stock_data.loc[i]['trend']\n",
    "            \n",
    "            x_list.append(x)\n",
    "            y_list.append(y)\n",
    "    \n",
    "    return x_list, y_list"
   ]
  },
  {
   "cell_type": "code",
   "execution_count": 7,
   "metadata": {},
   "outputs": [],
   "source": [
    "LAG = 5\n",
    "\n",
    "train_x, train_y = data_factory(train, LAG)\n",
    "val_x, val_y = data_factory(val, LAG)\n",
    "test_x, test_y = data_factory(test, LAG)"
   ]
  },
  {
   "cell_type": "code",
   "execution_count": 9,
   "metadata": {},
   "outputs": [
    {
     "name": "stdout",
     "output_type": "stream",
     "text": [
      "JiaoCheng Initialised\n",
      "Successfully read in model <class 'models.LSTM.LSTMC_pt'>, which is a Classification model\n",
      "Read in Train X data\n",
      "Read in Train y data\n",
      "Read in Val X data\n",
      "Read in Val y data\n",
      "Read in Test X data\n",
      "Read in Test y data\n"
     ]
    }
   ],
   "source": [
    "jiaocheng = JiaoCheng.JiaoCheng()\n",
    "\n",
    "from models.LSTM import LSTMC_pt as LSTMC\n",
    "\n",
    "jiaocheng.read_in_model(LSTMC, 'Classification')\n",
    "\n",
    "jiaocheng.read_in_data(train_x, train_y, val_x, val_y, test_x, test_y)\n",
    "\n",
    "parameter_choices = {\n",
    "    'lstm_hidden_layer_n_neurons': [6, 12, 25, 50, 100],\n",
    "    'lstm_n_hidden_layers': [1, 2, 3],\n",
    "    'bi_lstm': [False, True],\n",
    "    'n_hidden_layers': [1, 2, 3],\n",
    "    'batch_size': [64, 128, 256, 512],\n",
    "    'learning_rate': [0.001, 0.01, 0.1, 1],\n",
    "    'dense_hidden_layer_n_neurons': [6, 12, 25, 50, 100],\n",
    "    'activation': ['relu', 'sigmoid', 'tanh', 'softmax'],\n",
    "    'dropout_prob': [0, 0.1, 0.3, 0.5],\n",
    "    'batch_normalisation': [False, True],\n",
    "    'dense_layer_type': ['Dense', 'Residual'],\n",
    "    'attention_num_heads': [0, 1],\n",
    "\n",
    "}\n",
    "\n",
    "jiaocheng.set_hyperparameters(parameter_choices)\n",
    "\n",
    "jiaocheng.set_non_tuneable_hyperparameters({'verbose' : True, 'random_state' : 19260817, 'loss_function':'CrossEntropy', 'num_epochs':1000, 'grad_clip': False})\n",
    "\n",
    "jiaocheng.set_tuning_order(['lstm_n_hidden_layers', 'n_hidden_layers', 'lstm_hidden_layer_n_neurons', 'dense_hidden_layer_n_neurons', \n",
    "                            'bi_lstm', 'attention_num_heads', 'activation', 'dense_layer_type',\n",
    "                            'dropout_prob', 'batch_size', 'batch_normalisation', 'learning_rate'])\n",
    "\n",
    "jiaocheng.set_hyperparameter_default_values({\n",
    "    'lstm_hidden_layer_n_neurons': 6,\n",
    "    'lstm_n_hidden_layers': 1,\n",
    "    'bi_lstm': False,\n",
    "    'n_hidden_layers': 1,\n",
    "    'batch_size': 128,\n",
    "    'learning_rate': 0.01,\n",
    "    'dense_hidden_layer_n_neurons': 6,\n",
    "    'activation': 'relu',\n",
    "    'dropout_prob': 0.1,\n",
    "    'batch_normalisation': False,\n",
    "    'dense_layer_type': 'Dense',\n",
    "    'attention_num_heads': 0}\n",
    ")\n",
    "\n",
    "try:\n",
    "    jiaocheng.read_in_tuning_result_df(f'../models/tuning/jiaocheng_{MODEL}_{LABEL}.csv')\n",
    "except:\n",
    "    pass\n",
    "\n",
    "jiaocheng.set_tuning_result_saving_address(f'../models/tuning/jiaocheng_{MODEL}_{LABEL}.csv')\n",
    "jiaocheng.set_best_model_saving_address(f'../models/tmp_models/jiaocheng_{MODEL}_{LABEL}.pickle')\n",
    "\n",
    "jiaocheng.tune()\n",
    "\n",
    "print('\\n\\n')"
   ]
  },
  {
   "cell_type": "code",
   "execution_count": null,
   "metadata": {},
   "outputs": [],
   "source": []
  }
 ],
 "metadata": {
  "kernelspec": {
   "display_name": "base",
   "language": "python",
   "name": "python3"
  },
  "language_info": {
   "codemirror_mode": {
    "name": "ipython",
    "version": 3
   },
   "file_extension": ".py",
   "mimetype": "text/x-python",
   "name": "python",
   "nbconvert_exporter": "python",
   "pygments_lexer": "ipython3",
   "version": "3.9.7"
  },
  "orig_nbformat": 4
 },
 "nbformat": 4,
 "nbformat_minor": 2
}
