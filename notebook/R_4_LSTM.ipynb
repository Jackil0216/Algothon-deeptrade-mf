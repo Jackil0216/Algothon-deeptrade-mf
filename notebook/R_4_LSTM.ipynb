{
 "cells": [
  {
   "cell_type": "code",
   "execution_count": 1,
   "metadata": {},
   "outputs": [
    {
     "name": "stderr",
     "output_type": "stream",
     "text": [
      "/Applications/anaconda3/lib/python3.9/site-packages/scipy/__init__.py:146: UserWarning: A NumPy version >=1.16.5 and <1.23.0 is required for this version of SciPy (detected version 1.23.5\n",
      "  warnings.warn(f\"A NumPy version >={np_minversion} and <{np_maxversion}\"\n"
     ]
    }
   ],
   "source": [
    "import sys\n",
    "import os\n",
    "import pickle\n",
    "import pandas as pd\n",
    "import json\n",
    "import datetime\n",
    "import time\n",
    "import copy\n",
    "import numpy as np\n",
    "\n",
    "py_file_location = '../PrivatePackages'\n",
    "sys.path.append(os.path.abspath(py_file_location))\n",
    "from sklearn.model_selection import train_test_split\n",
    "\n",
    "import JiaoCheng\n",
    "import NingXiang"
   ]
  },
  {
   "cell_type": "code",
   "execution_count": 2,
   "metadata": {},
   "outputs": [],
   "source": [
    "LABEL = 'logret_normalised_by_day'\n",
    "MODEL = 'lstmr'"
   ]
  },
  {
   "cell_type": "code",
   "execution_count": 3,
   "metadata": {},
   "outputs": [],
   "source": [
    "curated_data = pd.read_csv('../data/curated_data.csv')\n",
    "curated_data = curated_data[['date', \n",
    "                        'stock',\n",
    "                        'log_ret',\n",
    "                        'closePrice_lag_1', \n",
    "                        'log_ret_normalised_by_day_lag_1', \n",
    "                        'closePriceNorm_lag_1', \n",
    "                        'log_ret_lag_1', \n",
    "                        'mean_log_ret_lag_1',\n",
    "                        'mean_closePrice_lag_1',\n",
    "                        'mean_closePriceNorm_lag_1',\n",
    "                        'mean_log_ret_normalised_by_day_lag_1', \n",
    "                        'pos_log_ret_lag_1',\n",
    "                        'pos_closePrice_lag_1',\n",
    "                        'pos_closePriceNorm_lag_1',\n",
    "                        'pos_log_ret_normalised_by_day_lag_1']]\n",
    "curated_data['date'] = pd.to_datetime(curated_data['date'])"
   ]
  },
  {
   "cell_type": "code",
   "execution_count": 4,
   "metadata": {},
   "outputs": [],
   "source": [
    "date = [datetime.datetime(year=2022, month=12, day = 31) + datetime.timedelta(days=i) for i in range(250)]\n",
    "val_date_start = date[175]\n",
    "test_date_start = date[175+38]"
   ]
  },
  {
   "cell_type": "code",
   "execution_count": 5,
   "metadata": {},
   "outputs": [],
   "source": [
    "curated_data['date'] = pd.to_datetime(curated_data['date'])\n",
    "curated_data = curated_data.dropna()\n",
    "\n",
    "train = curated_data[(curated_data['date'] < val_date_start)]\n",
    "val = curated_data[(curated_data['date'] < test_date_start) & (curated_data['date'] >= val_date_start)]\n",
    "test = curated_data[(curated_data['date'] >= test_date_start)]"
   ]
  },
  {
   "cell_type": "code",
   "execution_count": 6,
   "metadata": {},
   "outputs": [],
   "source": [
    "def data_factory(data, lag):\n",
    "    x_list, y_list = list(), list()\n",
    "\n",
    "    for id, stock_data in data.groupby('stock'):\n",
    "        stock_data.sort_values(by='date', inplace=True)\n",
    "        stock_data.drop(['stock', 'date'], axis=1, inplace=True)\n",
    "        stock_data.index = range(len(stock_data))\n",
    "\n",
    "        for i in range(len(stock_data)):\n",
    "            \n",
    "            if i < LAG-1:\n",
    "                continue\n",
    "\n",
    "            x = stock_data.iloc[i-LAG+1:i+1].values.copy()\n",
    "            x[-1:, 0] = 0 # mask last day's return\n",
    "            y = stock_data.loc[i]['log_ret']\n",
    "            \n",
    "            x_list.append(x)\n",
    "            y_list.append(y)\n",
    "    \n",
    "    return x_list, y_list"
   ]
  },
  {
   "cell_type": "code",
   "execution_count": 19,
   "metadata": {},
   "outputs": [],
   "source": [
    "LAG = 5\n",
    "\n",
    "train_x, train_y = data_factory(train, LAG)\n",
    "val_x, val_y = data_factory(val, LAG)\n",
    "test_x, test_y = data_factory(test, LAG)"
   ]
  },
  {
   "cell_type": "code",
   "execution_count": 8,
   "metadata": {},
   "outputs": [],
   "source": [
    "# lstm = LSTM.LSTM_pt(lstm_hidden_layer_n_neurons = 50,\n",
    "#                  lstm_n_hidden_layers = 1,\n",
    "#                  bi_lstm = False,\n",
    "#                  n_hidden_layers = 1,\n",
    "#                  batch_size = 128,\n",
    "#                  learning_rate = 0.01,\n",
    "#                  dense_hidden_layer_n_neurons = 50,\n",
    "#                  activation = 'relu',\n",
    "#                  num_epochs = 100,\n",
    "#                  random_state = 19260817,\n",
    "#                  dropout_prob = 0.1,\n",
    "#                  batch_normalisation = False,\n",
    "#                  verbose = True,\n",
    "#                  loss_function='MSE',\n",
    "#                  dense_layer_type = 'Dense',\n",
    "#                  grad_clip = False)"
   ]
  },
  {
   "cell_type": "code",
   "execution_count": 9,
   "metadata": {},
   "outputs": [],
   "source": [
    "# lstm.fit(train_x, train_y)"
   ]
  },
  {
   "cell_type": "code",
   "execution_count": 10,
   "metadata": {},
   "outputs": [],
   "source": [
    "# lstm.predict(val_x)"
   ]
  },
  {
   "cell_type": "code",
   "execution_count": 20,
   "metadata": {},
   "outputs": [
    {
     "name": "stdout",
     "output_type": "stream",
     "text": [
      "JiaoCheng Initialised\n",
      "Successfully read in model <module 'models.LSTM' from '/Users/tg.chenny/Desktop/3. Self Projects/2. PythonProject/Incomplete/DeepTrade/PrivatePackages/models/LSTM.py'>, which is a Regression model\n",
      "Read in Train X data\n",
      "Read in Train y data\n",
      "Read in Val X data\n",
      "Read in Val y data\n",
      "Read in Test X data\n",
      "Read in Test y data\n",
      "Successfully recorded hyperparameter choices\n",
      "Successfully recorded non_tuneable_hyperparameter choices\n",
      "Successfully set tuning output address\n",
      "Successfully set best model output address\n",
      "\n",
      "Default combo: [1, 0, 0, 0, 2, 1, 1, 0, 0, 1, 0, 0, 0] \n",
      "\n",
      "\n",
      "ROUND 1\n",
      "\n",
      "Round 1 \n",
      "Hyperparameter: lstm_n_hidden_layers (index: 1) \n",
      "\n"
     ]
    },
    {
     "ename": "TypeError",
     "evalue": "'module' object is not callable",
     "output_type": "error",
     "traceback": [
      "\u001b[0;31m---------------------------------------------------------------------------\u001b[0m",
      "\u001b[0;31mTypeError\u001b[0m                                 Traceback (most recent call last)",
      "\u001b[0;32m/var/folders/xg/8w_3dndd6l5c3n99vd7vd3f40000gn/T/ipykernel_59227/2286173590.py\u001b[0m in \u001b[0;36m<module>\u001b[0;34m\u001b[0m\n\u001b[1;32m     56\u001b[0m \u001b[0mjiaocheng\u001b[0m\u001b[0;34m.\u001b[0m\u001b[0mset_best_model_saving_address\u001b[0m\u001b[0;34m(\u001b[0m\u001b[0;34mf'../models/tmp_models/jiaocheng_{MODEL}_{LABEL}.pickle'\u001b[0m\u001b[0;34m)\u001b[0m\u001b[0;34m\u001b[0m\u001b[0;34m\u001b[0m\u001b[0m\n\u001b[1;32m     57\u001b[0m \u001b[0;34m\u001b[0m\u001b[0m\n\u001b[0;32m---> 58\u001b[0;31m \u001b[0mjiaocheng\u001b[0m\u001b[0;34m.\u001b[0m\u001b[0mtune\u001b[0m\u001b[0;34m(\u001b[0m\u001b[0;34m)\u001b[0m\u001b[0;34m\u001b[0m\u001b[0;34m\u001b[0m\u001b[0m\n\u001b[0m\u001b[1;32m     59\u001b[0m \u001b[0;34m\u001b[0m\u001b[0m\n\u001b[1;32m     60\u001b[0m \u001b[0mjiaocheng\u001b[0m\u001b[0;34m.\u001b[0m\u001b[0mview_best_combo_and_score\u001b[0m\u001b[0;34m(\u001b[0m\u001b[0;34m)\u001b[0m\u001b[0;34m\u001b[0m\u001b[0;34m\u001b[0m\u001b[0m\n",
      "\u001b[0;32m~/Desktop/3. Self Projects/2. PythonProject/Incomplete/DeepTrade/PrivatePackages/JiaoCheng.py\u001b[0m in \u001b[0;36mtune\u001b[0;34m(self, key_stats_only)\u001b[0m\n\u001b[1;32m    373\u001b[0m                     \u001b[0;32mif\u001b[0m \u001b[0;32mnot\u001b[0m \u001b[0mself\u001b[0m\u001b[0;34m.\u001b[0m\u001b[0mchecked\u001b[0m\u001b[0;34m[\u001b[0m\u001b[0mtuple\u001b[0m\u001b[0;34m(\u001b[0m\u001b[0mcombo\u001b[0m\u001b[0;34m)\u001b[0m\u001b[0;34m]\u001b[0m\u001b[0;34m:\u001b[0m\u001b[0;34m\u001b[0m\u001b[0;34m\u001b[0m\u001b[0m\n\u001b[1;32m    374\u001b[0m                         \u001b[0mself\u001b[0m\u001b[0;34m.\u001b[0m\u001b[0m_up_to\u001b[0m \u001b[0;34m+=\u001b[0m \u001b[0;36m1\u001b[0m\u001b[0;34m\u001b[0m\u001b[0;34m\u001b[0m\u001b[0m\n\u001b[0;32m--> 375\u001b[0;31m                         \u001b[0mself\u001b[0m\u001b[0;34m.\u001b[0m\u001b[0m_train_and_test_combo\u001b[0m\u001b[0;34m(\u001b[0m\u001b[0mcombo\u001b[0m\u001b[0;34m)\u001b[0m\u001b[0;34m\u001b[0m\u001b[0;34m\u001b[0m\u001b[0m\n\u001b[0m\u001b[1;32m    376\u001b[0m                     \u001b[0;32melse\u001b[0m\u001b[0;34m:\u001b[0m\u001b[0;34m\u001b[0m\u001b[0;34m\u001b[0m\u001b[0m\n\u001b[1;32m    377\u001b[0m                         \u001b[0mself\u001b[0m\u001b[0;34m.\u001b[0m\u001b[0m_check_already_trained_best_score\u001b[0m\u001b[0;34m(\u001b[0m\u001b[0mcombo\u001b[0m\u001b[0;34m)\u001b[0m\u001b[0;34m\u001b[0m\u001b[0;34m\u001b[0m\u001b[0m\n",
      "\u001b[0;32m~/Desktop/3. Self Projects/2. PythonProject/Incomplete/DeepTrade/PrivatePackages/JiaoCheng.py\u001b[0m in \u001b[0;36m_train_and_test_combo\u001b[0;34m(self, combo)\u001b[0m\n\u001b[1;32m    580\u001b[0m \u001b[0;34m\u001b[0m\u001b[0m\n\u001b[1;32m    581\u001b[0m             \u001b[0;31m# initialise object\u001b[0m\u001b[0;34m\u001b[0m\u001b[0;34m\u001b[0m\u001b[0m\n\u001b[0;32m--> 582\u001b[0;31m             \u001b[0mclf\u001b[0m \u001b[0;34m=\u001b[0m \u001b[0mself\u001b[0m\u001b[0;34m.\u001b[0m\u001b[0mmodel\u001b[0m\u001b[0;34m(\u001b[0m\u001b[0;34m**\u001b[0m\u001b[0mparams\u001b[0m\u001b[0;34m)\u001b[0m\u001b[0;34m\u001b[0m\u001b[0;34m\u001b[0m\u001b[0m\n\u001b[0m\u001b[1;32m    583\u001b[0m \u001b[0;34m\u001b[0m\u001b[0m\n\u001b[1;32m    584\u001b[0m         \u001b[0;31m# get time and fit\u001b[0m\u001b[0;34m\u001b[0m\u001b[0;34m\u001b[0m\u001b[0m\n",
      "\u001b[0;31mTypeError\u001b[0m: 'module' object is not callable"
     ]
    }
   ],
   "source": [
    "jiaocheng = JiaoCheng.JiaoCheng()\n",
    "\n",
    "from models.LSTM import LSTMR_pt as LSTMR\n",
    "\n",
    "jiaocheng.read_in_model(LSTMR, 'Regression')\n",
    "\n",
    "jiaocheng.read_in_data(train_x, train_y, val_x, val_y, test_x, test_y)\n",
    "\n",
    "parameter_choices = {\n",
    "    'lstm_hidden_layer_n_neurons': [25, 50, 100, 200],\n",
    "    'lstm_n_hidden_layers': [1, 2, 3],\n",
    "    'bi_lstm': [False, True],\n",
    "    'n_hidden_layers': [1, 2, 3],\n",
    "    'batch_size': [32, 64, 128, 256, 512],\n",
    "    'learning_rate': [0.001, 0.01, 0.1, 1],\n",
    "    'dense_hidden_layer_n_neurons': [25, 50, 100, 200],\n",
    "    'activation': ['relu', 'sigmoid', 'tanh', 'softmax'],\n",
    "    'num_epochs': [100, 200, 500, 1000],\n",
    "    'dropout_prob': [0, 0.1, 0.2, 0.3, 0.4, 0.5],\n",
    "    'batch_normalisation': [False, True],\n",
    "    'dense_layer_type': ['Dense', 'Residual'],\n",
    "    'grad_clip': [False, True]\n",
    "\n",
    "}\n",
    "\n",
    "jiaocheng.set_hyperparameters(parameter_choices)\n",
    "\n",
    "jiaocheng.set_non_tuneable_hyperparameters({'verbose' : True, 'random_state' : 19260817, 'loss_function':'MSE',})\n",
    "\n",
    "jiaocheng.set_tuning_order(['lstm_n_hidden_layers', 'n_hidden_layers', 'lstm_hidden_layer_n_neurons', 'dense_hidden_layer_n_neurons', \n",
    "                            'bi_lstm', 'activation', 'dense_layer_type',\n",
    "                            'dropout_prob', 'batch_size', 'num_epochs', 'batch_normalisation', 'grad_clip', 'learning_rate'])\n",
    "\n",
    "jiaocheng.set_hyperparameter_default_values({\n",
    "    'lstm_hidden_layer_n_neurons': 50,\n",
    "    'lstm_n_hidden_layers': 1,\n",
    "    'bi_lstm': False,\n",
    "    'n_hidden_layers': 1,\n",
    "    'batch_size': 128,\n",
    "    'learning_rate': 0.01,\n",
    "    'dense_hidden_layer_n_neurons': 50,\n",
    "    'activation': 'relu',\n",
    "    'num_epochs': 100,\n",
    "    'dropout_prob': 0.1,\n",
    "    'batch_normalisation': False,\n",
    "    'dense_layer_type': 'Dense',\n",
    "    'grad_clip': False}\n",
    ")\n",
    "\n",
    "try:\n",
    "    jiaocheng.read_in_tuning_result_df(f'../models/tuning/jiaocheng_{MODEL}_{LABEL}.csv')\n",
    "except:\n",
    "    pass\n",
    "\n",
    "jiaocheng.set_tuning_result_saving_address(f'../models/tuning/jiaocheng_{MODEL}_{LABEL}.csv')\n",
    "jiaocheng.set_best_model_saving_address(f'../models/tmp_models/jiaocheng_{MODEL}_{LABEL}.pickle')\n",
    "\n",
    "jiaocheng.tune()\n",
    "\n",
    "jiaocheng.view_best_combo_and_score()\n",
    "\n",
    "print('\\n\\n')"
   ]
  },
  {
   "cell_type": "code",
   "execution_count": null,
   "metadata": {},
   "outputs": [],
   "source": []
  }
 ],
 "metadata": {
  "kernelspec": {
   "display_name": "base",
   "language": "python",
   "name": "python3"
  },
  "language_info": {
   "codemirror_mode": {
    "name": "ipython",
    "version": 3
   },
   "file_extension": ".py",
   "mimetype": "text/x-python",
   "name": "python",
   "nbconvert_exporter": "python",
   "pygments_lexer": "ipython3",
   "version": "3.9.7"
  },
  "orig_nbformat": 4
 },
 "nbformat": 4,
 "nbformat_minor": 2
}
