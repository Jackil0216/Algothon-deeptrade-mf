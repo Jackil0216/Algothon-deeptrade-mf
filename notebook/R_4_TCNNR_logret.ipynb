{
 "cells": [
  {
   "cell_type": "code",
   "execution_count": 1,
   "metadata": {},
   "outputs": [
    {
     "name": "stderr",
     "output_type": "stream",
     "text": [
      "/Applications/anaconda3/lib/python3.9/site-packages/scipy/__init__.py:146: UserWarning: A NumPy version >=1.16.5 and <1.23.0 is required for this version of SciPy (detected version 1.23.5\n",
      "  warnings.warn(f\"A NumPy version >={np_minversion} and <{np_maxversion}\"\n"
     ]
    }
   ],
   "source": [
    "import sys\n",
    "import os\n",
    "import pickle\n",
    "import pandas as pd\n",
    "import json\n",
    "import datetime\n",
    "import time\n",
    "import copy\n",
    "import numpy as np\n",
    "\n",
    "py_file_location = '../PrivatePackages'\n",
    "sys.path.append(os.path.abspath(py_file_location))\n",
    "from sklearn.model_selection import train_test_split\n",
    "\n",
    "import JiaoCheng\n",
    "import NingXiang"
   ]
  },
  {
   "cell_type": "code",
   "execution_count": 2,
   "metadata": {},
   "outputs": [],
   "source": [
    "LABEL = 'logret'\n",
    "MODEL = 'tcnnr'"
   ]
  },
  {
   "cell_type": "code",
   "execution_count": 3,
   "metadata": {},
   "outputs": [],
   "source": [
    "curated_data = pd.read_csv('../data/curated_data.csv')\n",
    "curated_data = curated_data[['date', \n",
    "                        'stock',\n",
    "                        'log_ret',\n",
    "                        'closePrice_lag_1', \n",
    "                        'log_ret_normalised_by_day_lag_1', \n",
    "                        'closePriceNorm_lag_1', \n",
    "                        'log_ret_lag_1', \n",
    "                        'mean_log_ret_lag_1',\n",
    "                        'mean_closePrice_lag_1',\n",
    "                        'mean_closePriceNorm_lag_1',\n",
    "                        'mean_log_ret_normalised_by_day_lag_1', \n",
    "                        'pos_log_ret_lag_1',\n",
    "                        'pos_closePrice_lag_1',\n",
    "                        'pos_closePriceNorm_lag_1',\n",
    "                        'pos_log_ret_normalised_by_day_lag_1']]\n",
    "curated_data['date'] = pd.to_datetime(curated_data['date'])"
   ]
  },
  {
   "cell_type": "code",
   "execution_count": 4,
   "metadata": {},
   "outputs": [],
   "source": [
    "date = [datetime.datetime(year=2022, month=12, day = 31) + datetime.timedelta(days=i) for i in range(250)]\n",
    "val_date_start = date[175]\n",
    "test_date_start = date[175+38]"
   ]
  },
  {
   "cell_type": "code",
   "execution_count": 5,
   "metadata": {},
   "outputs": [],
   "source": [
    "curated_data['date'] = pd.to_datetime(curated_data['date'])\n",
    "curated_data = curated_data.dropna()\n",
    "\n",
    "train = curated_data[(curated_data['date'] < val_date_start)]\n",
    "val = curated_data[(curated_data['date'] < test_date_start) & (curated_data['date'] >= val_date_start)]\n",
    "test = curated_data[(curated_data['date'] >= test_date_start)]"
   ]
  },
  {
   "cell_type": "code",
   "execution_count": 6,
   "metadata": {},
   "outputs": [],
   "source": [
    "def data_factory(data, lag):\n",
    "    x_list, y_list = list(), list()\n",
    "\n",
    "    for id, stock_data in data.groupby('stock'):\n",
    "        stock_data.sort_values(by='date', inplace=True)\n",
    "        stock_data.drop(['stock', 'date'], axis=1, inplace=True)\n",
    "        stock_data.index = range(len(stock_data))\n",
    "\n",
    "        for i in range(len(stock_data)):\n",
    "            \n",
    "            if i < lag-1:\n",
    "                continue\n",
    "\n",
    "            x = stock_data.iloc[i-lag+1:i+1].values.copy()\n",
    "            x[-1:, 0] = 0 # mask last day's return\n",
    "            y = stock_data.loc[i]['log_ret']\n",
    "            \n",
    "            x_list.append(x)\n",
    "            y_list.append(y)\n",
    "    \n",
    "    return x_list, y_list"
   ]
  },
  {
   "cell_type": "code",
   "execution_count": 7,
   "metadata": {},
   "outputs": [],
   "source": [
    "LAG = 5\n",
    "\n",
    "train_x, train_y = data_factory(train, LAG)\n",
    "val_x, val_y = data_factory(val, LAG)\n",
    "test_x, test_y = data_factory(test, LAG)"
   ]
  },
  {
   "cell_type": "code",
   "execution_count": 8,
   "metadata": {},
   "outputs": [
    {
     "name": "stdout",
     "output_type": "stream",
     "text": [
      "JiaoCheng Initialised\n",
      "Successfully read in model <class 'models.TemporalConvolutionalNeuralNetwork_pt.TemporalConvolutionalNeuralNetworkRegressor_pt'>, which is a Regression model\n",
      "Read in Train X data\n",
      "Read in Train y data\n",
      "Read in Val X data\n",
      "Read in Val y data\n",
      "Read in Test X data\n",
      "Read in Test y data\n",
      "Successfully recorded hyperparameter choices\n",
      "Successfully recorded non_tuneable_hyperparameter choices\n",
      "Successfully set tuning output address\n",
      "Successfully set best model output address\n",
      "\n",
      "Default combo: [0, 1, 0, 0, 0, 0, 0, 0, 0, 2, 0, 0] \n",
      "\n",
      "\n",
      "ROUND 1\n",
      "\n",
      "Round 1 \n",
      "Hyperparameter: cnn_n_hidden_layers (index: 0) \n",
      "\n"
     ]
    },
    {
     "ename": "TypeError",
     "evalue": "empty(): argument 'size' must be tuple of SymInts, but found element of type numpy.float64 at pos 2",
     "output_type": "error",
     "traceback": [
      "\u001b[0;31m---------------------------------------------------------------------------\u001b[0m",
      "\u001b[0;31mTypeError\u001b[0m                                 Traceback (most recent call last)",
      "\u001b[0;32m~/Desktop/3. Self Projects/2. PythonProject/Incomplete/DeepTrade/PrivatePackages/JiaoCheng.py\u001b[0m in \u001b[0;36m_train_and_test_combo\u001b[0;34m(self, combo)\u001b[0m\n\u001b[1;32m    586\u001b[0m         \u001b[0;32mtry\u001b[0m\u001b[0;34m:\u001b[0m\u001b[0;34m\u001b[0m\u001b[0;34m\u001b[0m\u001b[0m\n\u001b[0;32m--> 587\u001b[0;31m             \u001b[0mclf\u001b[0m\u001b[0;34m.\u001b[0m\u001b[0mfit\u001b[0m\u001b[0;34m(\u001b[0m\u001b[0mtmp_train_x\u001b[0m\u001b[0;34m,\u001b[0m \u001b[0mself\u001b[0m\u001b[0;34m.\u001b[0m\u001b[0mtrain_y\u001b[0m\u001b[0;34m,\u001b[0m \u001b[0mval_x\u001b[0m \u001b[0;34m=\u001b[0m \u001b[0mtmp_val_x\u001b[0m\u001b[0;34m,\u001b[0m \u001b[0mval_y\u001b[0m \u001b[0;34m=\u001b[0m \u001b[0mself\u001b[0m\u001b[0;34m.\u001b[0m\u001b[0mval_y\u001b[0m\u001b[0;34m)\u001b[0m\u001b[0;34m\u001b[0m\u001b[0;34m\u001b[0m\u001b[0m\n\u001b[0m\u001b[1;32m    588\u001b[0m         \u001b[0;32mexcept\u001b[0m \u001b[0mTypeError\u001b[0m\u001b[0;34m:\u001b[0m\u001b[0;34m\u001b[0m\u001b[0;34m\u001b[0m\u001b[0m\n",
      "\u001b[0;32m~/Desktop/3. Self Projects/2. PythonProject/Incomplete/DeepTrade/PrivatePackages/models/TemporalConvolutionalNeuralNetwork_pt.py\u001b[0m in \u001b[0;36mfit\u001b[0;34m(self, train_x, train_y, initial_model, val_x, val_y)\u001b[0m\n\u001b[1;32m    386\u001b[0m         \u001b[0;31m# Create the model\u001b[0m\u001b[0;34m\u001b[0m\u001b[0;34m\u001b[0m\u001b[0m\n\u001b[0;32m--> 387\u001b[0;31m         self.model = T_CNNR(n_features=self.input_size,\n\u001b[0m\u001b[1;32m    388\u001b[0m                     \u001b[0mlookback_window_size\u001b[0m \u001b[0;34m=\u001b[0m \u001b[0mself\u001b[0m\u001b[0;34m.\u001b[0m\u001b[0mlookback_window_size\u001b[0m\u001b[0;34m,\u001b[0m\u001b[0;34m\u001b[0m\u001b[0;34m\u001b[0m\u001b[0m\n",
      "\u001b[0;32m~/Desktop/3. Self Projects/2. PythonProject/Incomplete/DeepTrade/PrivatePackages/models/TemporalConvolutionalNeuralNetwork_pt.py\u001b[0m in \u001b[0;36m__init__\u001b[0;34m(self, n_features, lookback_window_size, cnn_n_hidden_layers, output_channels_per_input_channel, convolution_kernel_dim, convolution_stride, activation_function, pool_type, pool_kernel, dense_n_hidden_layers, dense_hidden_layer_embed_dim, dropout_prob, output_size, batch_normalisation, random_state, dense_layer_type)\u001b[0m\n\u001b[1;32m    267\u001b[0m             \u001b[0;32mfor\u001b[0m \u001b[0mi\u001b[0m \u001b[0;32min\u001b[0m \u001b[0mrange\u001b[0m\u001b[0;34m(\u001b[0m\u001b[0mdense_n_hidden_layers\u001b[0m\u001b[0;34m)\u001b[0m\u001b[0;34m:\u001b[0m\u001b[0;34m\u001b[0m\u001b[0;34m\u001b[0m\u001b[0m\n\u001b[0;32m--> 268\u001b[0;31m                 \u001b[0mself\u001b[0m\u001b[0;34m.\u001b[0m\u001b[0mlayers\u001b[0m\u001b[0;34m.\u001b[0m\u001b[0mappend\u001b[0m\u001b[0;34m(\u001b[0m\u001b[0mdense_layer\u001b[0m\u001b[0;34m(\u001b[0m\u001b[0mactual_neuron_list\u001b[0m\u001b[0;34m[\u001b[0m\u001b[0mi\u001b[0m\u001b[0;34m]\u001b[0m\u001b[0;34m,\u001b[0m \u001b[0mactual_neuron_list\u001b[0m\u001b[0;34m[\u001b[0m\u001b[0mi\u001b[0m\u001b[0;34m+\u001b[0m\u001b[0;36m1\u001b[0m\u001b[0;34m]\u001b[0m\u001b[0;34m,\u001b[0m \u001b[0mdropout_prob\u001b[0m\u001b[0;34m,\u001b[0m \u001b[0mbatch_normalisation\u001b[0m\u001b[0;34m,\u001b[0m \u001b[0mactivation_function\u001b[0m\u001b[0;34m,\u001b[0m \u001b[0mrandom_state\u001b[0m\u001b[0;34m)\u001b[0m\u001b[0;34m)\u001b[0m\u001b[0;34m\u001b[0m\u001b[0;34m\u001b[0m\u001b[0m\n\u001b[0m\u001b[1;32m    269\u001b[0m \u001b[0;34m\u001b[0m\u001b[0m\n",
      "\u001b[0;32m~/Desktop/3. Self Projects/2. PythonProject/Incomplete/DeepTrade/PrivatePackages/models/TemporalConvolutionalNeuralNetwork_pt.py\u001b[0m in \u001b[0;36m__init__\u001b[0;34m(self, input_dimension, output_dimension, dropout_prob, batch_normalisation, activation_function, random_state)\u001b[0m\n\u001b[1;32m     67\u001b[0m             self.layer = nn.Sequential(\n\u001b[0;32m---> 68\u001b[0;31m                 \u001b[0mnn\u001b[0m\u001b[0;34m.\u001b[0m\u001b[0mLinear\u001b[0m\u001b[0;34m(\u001b[0m\u001b[0minput_dimension\u001b[0m\u001b[0;34m,\u001b[0m \u001b[0moutput_dimension\u001b[0m\u001b[0;34m)\u001b[0m\u001b[0;34m,\u001b[0m\u001b[0;34m\u001b[0m\u001b[0;34m\u001b[0m\u001b[0m\n\u001b[0m\u001b[1;32m     69\u001b[0m                 \u001b[0mself\u001b[0m\u001b[0;34m.\u001b[0m\u001b[0mACTIVATION_FUNCTIONS_MAP\u001b[0m\u001b[0;34m[\u001b[0m\u001b[0mactivation_function\u001b[0m\u001b[0;34m]\u001b[0m\u001b[0;34m,\u001b[0m\u001b[0;34m\u001b[0m\u001b[0;34m\u001b[0m\u001b[0m\n",
      "\u001b[0;32m/Applications/anaconda3/lib/python3.9/site-packages/torch/nn/modules/linear.py\u001b[0m in \u001b[0;36m__init__\u001b[0;34m(self, in_features, out_features, bias, device, dtype)\u001b[0m\n\u001b[1;32m     95\u001b[0m         \u001b[0mself\u001b[0m\u001b[0;34m.\u001b[0m\u001b[0mout_features\u001b[0m \u001b[0;34m=\u001b[0m \u001b[0mout_features\u001b[0m\u001b[0;34m\u001b[0m\u001b[0;34m\u001b[0m\u001b[0m\n\u001b[0;32m---> 96\u001b[0;31m         \u001b[0mself\u001b[0m\u001b[0;34m.\u001b[0m\u001b[0mweight\u001b[0m \u001b[0;34m=\u001b[0m \u001b[0mParameter\u001b[0m\u001b[0;34m(\u001b[0m\u001b[0mtorch\u001b[0m\u001b[0;34m.\u001b[0m\u001b[0mempty\u001b[0m\u001b[0;34m(\u001b[0m\u001b[0;34m(\u001b[0m\u001b[0mout_features\u001b[0m\u001b[0;34m,\u001b[0m \u001b[0min_features\u001b[0m\u001b[0;34m)\u001b[0m\u001b[0;34m,\u001b[0m \u001b[0;34m**\u001b[0m\u001b[0mfactory_kwargs\u001b[0m\u001b[0;34m)\u001b[0m\u001b[0;34m)\u001b[0m\u001b[0;34m\u001b[0m\u001b[0;34m\u001b[0m\u001b[0m\n\u001b[0m\u001b[1;32m     97\u001b[0m         \u001b[0;32mif\u001b[0m \u001b[0mbias\u001b[0m\u001b[0;34m:\u001b[0m\u001b[0;34m\u001b[0m\u001b[0;34m\u001b[0m\u001b[0m\n",
      "\u001b[0;31mTypeError\u001b[0m: empty(): argument 'size' must be tuple of SymInts, but found element of type numpy.float64 at pos 2",
      "\nDuring handling of the above exception, another exception occurred:\n",
      "\u001b[0;31mTypeError\u001b[0m                                 Traceback (most recent call last)",
      "\u001b[0;32m/var/folders/xg/8w_3dndd6l5c3n99vd7vd3f40000gn/T/ipykernel_61002/433640290.py\u001b[0m in \u001b[0;36m<module>\u001b[0;34m\u001b[0m\n\u001b[1;32m     73\u001b[0m \u001b[0mjiaocheng\u001b[0m\u001b[0;34m.\u001b[0m\u001b[0mset_best_model_saving_address\u001b[0m\u001b[0;34m(\u001b[0m\u001b[0;34mf'../models/tmp_models/jiaocheng_{MODEL}_{LABEL}.pickle'\u001b[0m\u001b[0;34m)\u001b[0m\u001b[0;34m\u001b[0m\u001b[0;34m\u001b[0m\u001b[0m\n\u001b[1;32m     74\u001b[0m \u001b[0;34m\u001b[0m\u001b[0m\n\u001b[0;32m---> 75\u001b[0;31m \u001b[0mjiaocheng\u001b[0m\u001b[0;34m.\u001b[0m\u001b[0mtune\u001b[0m\u001b[0;34m(\u001b[0m\u001b[0;34m)\u001b[0m\u001b[0;34m\u001b[0m\u001b[0;34m\u001b[0m\u001b[0m\n\u001b[0m\u001b[1;32m     76\u001b[0m \u001b[0;34m\u001b[0m\u001b[0m\n\u001b[1;32m     77\u001b[0m \u001b[0mjiaocheng\u001b[0m\u001b[0;34m.\u001b[0m\u001b[0mview_best_combo_and_score\u001b[0m\u001b[0;34m(\u001b[0m\u001b[0;34m)\u001b[0m\u001b[0;34m\u001b[0m\u001b[0;34m\u001b[0m\u001b[0m\n",
      "\u001b[0;32m~/Desktop/3. Self Projects/2. PythonProject/Incomplete/DeepTrade/PrivatePackages/JiaoCheng.py\u001b[0m in \u001b[0;36mtune\u001b[0;34m(self, key_stats_only)\u001b[0m\n\u001b[1;32m    373\u001b[0m                     \u001b[0;32mif\u001b[0m \u001b[0;32mnot\u001b[0m \u001b[0mself\u001b[0m\u001b[0;34m.\u001b[0m\u001b[0mchecked\u001b[0m\u001b[0;34m[\u001b[0m\u001b[0mtuple\u001b[0m\u001b[0;34m(\u001b[0m\u001b[0mcombo\u001b[0m\u001b[0;34m)\u001b[0m\u001b[0;34m]\u001b[0m\u001b[0;34m:\u001b[0m\u001b[0;34m\u001b[0m\u001b[0;34m\u001b[0m\u001b[0m\n\u001b[1;32m    374\u001b[0m                         \u001b[0mself\u001b[0m\u001b[0;34m.\u001b[0m\u001b[0m_up_to\u001b[0m \u001b[0;34m+=\u001b[0m \u001b[0;36m1\u001b[0m\u001b[0;34m\u001b[0m\u001b[0;34m\u001b[0m\u001b[0m\n\u001b[0;32m--> 375\u001b[0;31m                         \u001b[0mself\u001b[0m\u001b[0;34m.\u001b[0m\u001b[0m_train_and_test_combo\u001b[0m\u001b[0;34m(\u001b[0m\u001b[0mcombo\u001b[0m\u001b[0;34m)\u001b[0m\u001b[0;34m\u001b[0m\u001b[0;34m\u001b[0m\u001b[0m\n\u001b[0m\u001b[1;32m    376\u001b[0m                     \u001b[0;32melse\u001b[0m\u001b[0;34m:\u001b[0m\u001b[0;34m\u001b[0m\u001b[0;34m\u001b[0m\u001b[0m\n\u001b[1;32m    377\u001b[0m                         \u001b[0mself\u001b[0m\u001b[0;34m.\u001b[0m\u001b[0m_check_already_trained_best_score\u001b[0m\u001b[0;34m(\u001b[0m\u001b[0mcombo\u001b[0m\u001b[0;34m)\u001b[0m\u001b[0;34m\u001b[0m\u001b[0;34m\u001b[0m\u001b[0m\n",
      "\u001b[0;32m~/Desktop/3. Self Projects/2. PythonProject/Incomplete/DeepTrade/PrivatePackages/JiaoCheng.py\u001b[0m in \u001b[0;36m_train_and_test_combo\u001b[0;34m(self, combo)\u001b[0m\n\u001b[1;32m    587\u001b[0m             \u001b[0mclf\u001b[0m\u001b[0;34m.\u001b[0m\u001b[0mfit\u001b[0m\u001b[0;34m(\u001b[0m\u001b[0mtmp_train_x\u001b[0m\u001b[0;34m,\u001b[0m \u001b[0mself\u001b[0m\u001b[0;34m.\u001b[0m\u001b[0mtrain_y\u001b[0m\u001b[0;34m,\u001b[0m \u001b[0mval_x\u001b[0m \u001b[0;34m=\u001b[0m \u001b[0mtmp_val_x\u001b[0m\u001b[0;34m,\u001b[0m \u001b[0mval_y\u001b[0m \u001b[0;34m=\u001b[0m \u001b[0mself\u001b[0m\u001b[0;34m.\u001b[0m\u001b[0mval_y\u001b[0m\u001b[0;34m)\u001b[0m\u001b[0;34m\u001b[0m\u001b[0;34m\u001b[0m\u001b[0m\n\u001b[1;32m    588\u001b[0m         \u001b[0;32mexcept\u001b[0m \u001b[0mTypeError\u001b[0m\u001b[0;34m:\u001b[0m\u001b[0;34m\u001b[0m\u001b[0;34m\u001b[0m\u001b[0m\n\u001b[0;32m--> 589\u001b[0;31m             \u001b[0mclf\u001b[0m\u001b[0;34m.\u001b[0m\u001b[0mfit\u001b[0m\u001b[0;34m(\u001b[0m\u001b[0mtmp_train_x\u001b[0m\u001b[0;34m,\u001b[0m \u001b[0mself\u001b[0m\u001b[0;34m.\u001b[0m\u001b[0mtrain_y\u001b[0m\u001b[0;34m)\u001b[0m\u001b[0;34m\u001b[0m\u001b[0;34m\u001b[0m\u001b[0m\n\u001b[0m\u001b[1;32m    590\u001b[0m         \u001b[0mend\u001b[0m \u001b[0;34m=\u001b[0m \u001b[0mtime\u001b[0m\u001b[0;34m.\u001b[0m\u001b[0mtime\u001b[0m\u001b[0;34m(\u001b[0m\u001b[0;34m)\u001b[0m\u001b[0;34m\u001b[0m\u001b[0;34m\u001b[0m\u001b[0m\n\u001b[1;32m    591\u001b[0m \u001b[0;34m\u001b[0m\u001b[0m\n",
      "\u001b[0;32m~/Desktop/3. Self Projects/2. PythonProject/Incomplete/DeepTrade/PrivatePackages/models/TemporalConvolutionalNeuralNetwork_pt.py\u001b[0m in \u001b[0;36mfit\u001b[0;34m(self, train_x, train_y, initial_model, val_x, val_y)\u001b[0m\n\u001b[1;32m    385\u001b[0m \u001b[0;34m\u001b[0m\u001b[0m\n\u001b[1;32m    386\u001b[0m         \u001b[0;31m# Create the model\u001b[0m\u001b[0;34m\u001b[0m\u001b[0;34m\u001b[0m\u001b[0m\n\u001b[0;32m--> 387\u001b[0;31m         self.model = T_CNNR(n_features=self.input_size,\n\u001b[0m\u001b[1;32m    388\u001b[0m                     \u001b[0mlookback_window_size\u001b[0m \u001b[0;34m=\u001b[0m \u001b[0mself\u001b[0m\u001b[0;34m.\u001b[0m\u001b[0mlookback_window_size\u001b[0m\u001b[0;34m,\u001b[0m\u001b[0;34m\u001b[0m\u001b[0;34m\u001b[0m\u001b[0m\n\u001b[1;32m    389\u001b[0m                     \u001b[0mcnn_n_hidden_layers\u001b[0m \u001b[0;34m=\u001b[0m \u001b[0mself\u001b[0m\u001b[0;34m.\u001b[0m\u001b[0mcnn_n_hidden_layers\u001b[0m\u001b[0;34m,\u001b[0m\u001b[0;34m\u001b[0m\u001b[0;34m\u001b[0m\u001b[0m\n",
      "\u001b[0;32m~/Desktop/3. Self Projects/2. PythonProject/Incomplete/DeepTrade/PrivatePackages/models/TemporalConvolutionalNeuralNetwork_pt.py\u001b[0m in \u001b[0;36m__init__\u001b[0;34m(self, n_features, lookback_window_size, cnn_n_hidden_layers, output_channels_per_input_channel, convolution_kernel_dim, convolution_stride, activation_function, pool_type, pool_kernel, dense_n_hidden_layers, dense_hidden_layer_embed_dim, dropout_prob, output_size, batch_normalisation, random_state, dense_layer_type)\u001b[0m\n\u001b[1;32m    266\u001b[0m             \u001b[0;31m# define layers\u001b[0m\u001b[0;34m\u001b[0m\u001b[0;34m\u001b[0m\u001b[0m\n\u001b[1;32m    267\u001b[0m             \u001b[0;32mfor\u001b[0m \u001b[0mi\u001b[0m \u001b[0;32min\u001b[0m \u001b[0mrange\u001b[0m\u001b[0;34m(\u001b[0m\u001b[0mdense_n_hidden_layers\u001b[0m\u001b[0;34m)\u001b[0m\u001b[0;34m:\u001b[0m\u001b[0;34m\u001b[0m\u001b[0;34m\u001b[0m\u001b[0m\n\u001b[0;32m--> 268\u001b[0;31m                 \u001b[0mself\u001b[0m\u001b[0;34m.\u001b[0m\u001b[0mlayers\u001b[0m\u001b[0;34m.\u001b[0m\u001b[0mappend\u001b[0m\u001b[0;34m(\u001b[0m\u001b[0mdense_layer\u001b[0m\u001b[0;34m(\u001b[0m\u001b[0mactual_neuron_list\u001b[0m\u001b[0;34m[\u001b[0m\u001b[0mi\u001b[0m\u001b[0;34m]\u001b[0m\u001b[0;34m,\u001b[0m \u001b[0mactual_neuron_list\u001b[0m\u001b[0;34m[\u001b[0m\u001b[0mi\u001b[0m\u001b[0;34m+\u001b[0m\u001b[0;36m1\u001b[0m\u001b[0;34m]\u001b[0m\u001b[0;34m,\u001b[0m \u001b[0mdropout_prob\u001b[0m\u001b[0;34m,\u001b[0m \u001b[0mbatch_normalisation\u001b[0m\u001b[0;34m,\u001b[0m \u001b[0mactivation_function\u001b[0m\u001b[0;34m,\u001b[0m \u001b[0mrandom_state\u001b[0m\u001b[0;34m)\u001b[0m\u001b[0;34m)\u001b[0m\u001b[0;34m\u001b[0m\u001b[0;34m\u001b[0m\u001b[0m\n\u001b[0m\u001b[1;32m    269\u001b[0m \u001b[0;34m\u001b[0m\u001b[0m\n\u001b[1;32m    270\u001b[0m \u001b[0;34m\u001b[0m\u001b[0m\n",
      "\u001b[0;32m~/Desktop/3. Self Projects/2. PythonProject/Incomplete/DeepTrade/PrivatePackages/models/TemporalConvolutionalNeuralNetwork_pt.py\u001b[0m in \u001b[0;36m__init__\u001b[0;34m(self, input_dimension, output_dimension, dropout_prob, batch_normalisation, activation_function, random_state)\u001b[0m\n\u001b[1;32m     66\u001b[0m         \u001b[0;32melse\u001b[0m\u001b[0;34m:\u001b[0m\u001b[0;34m\u001b[0m\u001b[0;34m\u001b[0m\u001b[0m\n\u001b[1;32m     67\u001b[0m             self.layer = nn.Sequential(\n\u001b[0;32m---> 68\u001b[0;31m                 \u001b[0mnn\u001b[0m\u001b[0;34m.\u001b[0m\u001b[0mLinear\u001b[0m\u001b[0;34m(\u001b[0m\u001b[0minput_dimension\u001b[0m\u001b[0;34m,\u001b[0m \u001b[0moutput_dimension\u001b[0m\u001b[0;34m)\u001b[0m\u001b[0;34m,\u001b[0m\u001b[0;34m\u001b[0m\u001b[0;34m\u001b[0m\u001b[0m\n\u001b[0m\u001b[1;32m     69\u001b[0m                 \u001b[0mself\u001b[0m\u001b[0;34m.\u001b[0m\u001b[0mACTIVATION_FUNCTIONS_MAP\u001b[0m\u001b[0;34m[\u001b[0m\u001b[0mactivation_function\u001b[0m\u001b[0;34m]\u001b[0m\u001b[0;34m,\u001b[0m\u001b[0;34m\u001b[0m\u001b[0;34m\u001b[0m\u001b[0m\n\u001b[1;32m     70\u001b[0m                 \u001b[0mnn\u001b[0m\u001b[0;34m.\u001b[0m\u001b[0mDropout\u001b[0m\u001b[0;34m(\u001b[0m\u001b[0mdropout_prob\u001b[0m\u001b[0;34m)\u001b[0m\u001b[0;34m\u001b[0m\u001b[0;34m\u001b[0m\u001b[0m\n",
      "\u001b[0;32m/Applications/anaconda3/lib/python3.9/site-packages/torch/nn/modules/linear.py\u001b[0m in \u001b[0;36m__init__\u001b[0;34m(self, in_features, out_features, bias, device, dtype)\u001b[0m\n\u001b[1;32m     94\u001b[0m         \u001b[0mself\u001b[0m\u001b[0;34m.\u001b[0m\u001b[0min_features\u001b[0m \u001b[0;34m=\u001b[0m \u001b[0min_features\u001b[0m\u001b[0;34m\u001b[0m\u001b[0;34m\u001b[0m\u001b[0m\n\u001b[1;32m     95\u001b[0m         \u001b[0mself\u001b[0m\u001b[0;34m.\u001b[0m\u001b[0mout_features\u001b[0m \u001b[0;34m=\u001b[0m \u001b[0mout_features\u001b[0m\u001b[0;34m\u001b[0m\u001b[0;34m\u001b[0m\u001b[0m\n\u001b[0;32m---> 96\u001b[0;31m         \u001b[0mself\u001b[0m\u001b[0;34m.\u001b[0m\u001b[0mweight\u001b[0m \u001b[0;34m=\u001b[0m \u001b[0mParameter\u001b[0m\u001b[0;34m(\u001b[0m\u001b[0mtorch\u001b[0m\u001b[0;34m.\u001b[0m\u001b[0mempty\u001b[0m\u001b[0;34m(\u001b[0m\u001b[0;34m(\u001b[0m\u001b[0mout_features\u001b[0m\u001b[0;34m,\u001b[0m \u001b[0min_features\u001b[0m\u001b[0;34m)\u001b[0m\u001b[0;34m,\u001b[0m \u001b[0;34m**\u001b[0m\u001b[0mfactory_kwargs\u001b[0m\u001b[0;34m)\u001b[0m\u001b[0;34m)\u001b[0m\u001b[0;34m\u001b[0m\u001b[0;34m\u001b[0m\u001b[0m\n\u001b[0m\u001b[1;32m     97\u001b[0m         \u001b[0;32mif\u001b[0m \u001b[0mbias\u001b[0m\u001b[0;34m:\u001b[0m\u001b[0;34m\u001b[0m\u001b[0;34m\u001b[0m\u001b[0m\n\u001b[1;32m     98\u001b[0m             \u001b[0mself\u001b[0m\u001b[0;34m.\u001b[0m\u001b[0mbias\u001b[0m \u001b[0;34m=\u001b[0m \u001b[0mParameter\u001b[0m\u001b[0;34m(\u001b[0m\u001b[0mtorch\u001b[0m\u001b[0;34m.\u001b[0m\u001b[0mempty\u001b[0m\u001b[0;34m(\u001b[0m\u001b[0mout_features\u001b[0m\u001b[0;34m,\u001b[0m \u001b[0;34m**\u001b[0m\u001b[0mfactory_kwargs\u001b[0m\u001b[0;34m)\u001b[0m\u001b[0;34m)\u001b[0m\u001b[0;34m\u001b[0m\u001b[0;34m\u001b[0m\u001b[0m\n",
      "\u001b[0;31mTypeError\u001b[0m: empty(): argument 'size' must be tuple of SymInts, but found element of type numpy.float64 at pos 2"
     ]
    }
   ],
   "source": [
    "jiaocheng = JiaoCheng.JiaoCheng()\n",
    "\n",
    "from models.TemporalConvolutionalNeuralNetwork_pt import TemporalConvolutionalNeuralNetworkRegressor_pt as TCNNR\n",
    "\n",
    "jiaocheng.read_in_model(TCNNR, 'Regression')\n",
    "\n",
    "jiaocheng.read_in_data(train_x, train_y, val_x, val_y, test_x, test_y)\n",
    "\n",
    "parameter_choices = {\n",
    "\n",
    "    'cnn_n_hidden_layers': [1, 2, 3],\n",
    "    'output_channels_per_input_channel': [1, 2, 3, 4],\n",
    "    'convolution_kernel_dim': [2, 3],\n",
    "    'activation': ['relu', 'sigmoid', 'tanh'],\n",
    "    'pool_kernel': [2, 3],\n",
    "    'dense_n_hidden_layers': [1, 2, 3],\n",
    "    'dense_hidden_layer_embed_dim': [10, 20, 30, 40],\n",
    "    'dropout_prob': [0.1, 0.2, 0.3, 0.4, 0.5],\n",
    "    'batch_size': [32, 64, 128, 256],\n",
    "    'learning_rate': [0.01, 0.001, 0.0001],\n",
    "    'dense_layer_type' : ['Dense', 'Residual'],\n",
    "    'batch_normalisation' : [False, True]\n",
    "\n",
    "}\n",
    "\n",
    "jiaocheng.set_hyperparameters(parameter_choices)\n",
    "\n",
    "jiaocheng.set_non_tuneable_hyperparameters({\n",
    "    'num_epochs' : 200,\n",
    "    'verbose' : True,\n",
    "    'loss_function':'MSE',\n",
    "    'grad_clip' : False,\n",
    "    'eval_metric' : 'R2',\n",
    "    'random_state' : 19260817,\n",
    "    'lookback_window_size' : LAG,\n",
    "    'convolution_stride' : 1,\n",
    "    'pool_type': 'MaxPool',})\n",
    "\n",
    "jiaocheng.set_tuning_order(['cnn_n_hidden_layers', \n",
    "                            'output_channels_per_input_channel',\n",
    "                            'convolution_kernel_dim',\n",
    "                            'pool_kernel',\n",
    "                            'dense_n_hidden_layers',\n",
    "                            'dense_hidden_layer_embed_dim',\n",
    "                            'batch_normalisation',\n",
    "                            'dense_layer_type',\n",
    "                            'activation',\n",
    "                            'batch_size',\n",
    "                            'dropout_prob',\n",
    "                            'learning_rate'])\n",
    "\n",
    "jiaocheng.set_hyperparameter_default_values({\n",
    "    'cnn_n_hidden_layers': 1,\n",
    "    'output_channels_per_input_channel': 2,\n",
    "    'convolution_kernel_dim': 2,\n",
    "    'activation': 'relu',\n",
    "    'pool_kernel': 2,\n",
    "    'dense_n_hidden_layers': 1,\n",
    "    'dense_hidden_layer_embed_dim': 10,\n",
    "    'dropout_prob': 0.1,\n",
    "    'batch_size': 32,\n",
    "    'learning_rate': 0.01,\n",
    "    'dense_layer_type' : 'Dense',\n",
    "    'batch_normalisation' : False}\n",
    ")\n",
    "\n",
    "try:\n",
    "    jiaocheng.read_in_tuning_result_df(f'../models/tuning/jiaocheng_{MODEL}_{LABEL}.csv')\n",
    "except:\n",
    "    pass\n",
    "\n",
    "jiaocheng.set_tuning_result_saving_address(f'../models/tuning/jiaocheng_{MODEL}_{LABEL}.csv')\n",
    "jiaocheng.set_best_model_saving_address(f'../models/tmp_models/jiaocheng_{MODEL}_{LABEL}.pickle')\n",
    "\n",
    "jiaocheng.tune()\n",
    "\n",
    "jiaocheng.view_best_combo_and_score()\n",
    "\n",
    "print('\\n\\n')"
   ]
  },
  {
   "cell_type": "code",
   "execution_count": null,
   "metadata": {},
   "outputs": [],
   "source": []
  }
 ],
 "metadata": {
  "kernelspec": {
   "display_name": "base",
   "language": "python",
   "name": "python3"
  },
  "language_info": {
   "codemirror_mode": {
    "name": "ipython",
    "version": 3
   },
   "file_extension": ".py",
   "mimetype": "text/x-python",
   "name": "python",
   "nbconvert_exporter": "python",
   "pygments_lexer": "ipython3",
   "version": "3.9.7"
  },
  "orig_nbformat": 4
 },
 "nbformat": 4,
 "nbformat_minor": 2
}
