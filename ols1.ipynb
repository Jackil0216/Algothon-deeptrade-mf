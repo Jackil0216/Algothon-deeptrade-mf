{
 "cells": [
  {
   "cell_type": "code",
   "execution_count": 23,
   "id": "5913177a",
   "metadata": {},
   "outputs": [],
   "source": [
    "import numpy as np\n",
    "import pandas as pd\n",
    "import statsmodels\n",
    "import statsmodels.api as sm\n",
    "import csv\n",
    "\n",
    "from statsmodels.tsa.stattools import coint, adfuller\n",
    "from statsmodels.tsa.stattools import kpss\n",
    "from statsmodels.api import OLS, add_constant\n",
    "import matplotlib.pyplot as plt"
   ]
  },
  {
   "cell_type": "code",
   "execution_count": 24,
   "id": "4471f455",
   "metadata": {},
   "outputs": [],
   "source": [
    "data = pd.read_csv('../ols1/data/basic_data.csv')"
   ]
  },
  {
   "cell_type": "code",
   "execution_count": 25,
   "id": "3113ba8c",
   "metadata": {},
   "outputs": [
    {
     "data": {
      "text/html": [
       "<div>\n",
       "<style scoped>\n",
       "    .dataframe tbody tr th:only-of-type {\n",
       "        vertical-align: middle;\n",
       "    }\n",
       "\n",
       "    .dataframe tbody tr th {\n",
       "        vertical-align: top;\n",
       "    }\n",
       "\n",
       "    .dataframe thead th {\n",
       "        text-align: right;\n",
       "    }\n",
       "</style>\n",
       "<table border=\"1\" class=\"dataframe\">\n",
       "  <thead>\n",
       "    <tr style=\"text-align: right;\">\n",
       "      <th></th>\n",
       "      <th>date</th>\n",
       "      <th>stock</th>\n",
       "      <th>closePrice</th>\n",
       "    </tr>\n",
       "  </thead>\n",
       "  <tbody>\n",
       "    <tr>\n",
       "      <th>0</th>\n",
       "      <td>0</td>\n",
       "      <td>0</td>\n",
       "      <td>60.17</td>\n",
       "    </tr>\n",
       "    <tr>\n",
       "      <th>1</th>\n",
       "      <td>1</td>\n",
       "      <td>0</td>\n",
       "      <td>59.99</td>\n",
       "    </tr>\n",
       "    <tr>\n",
       "      <th>2</th>\n",
       "      <td>2</td>\n",
       "      <td>0</td>\n",
       "      <td>59.66</td>\n",
       "    </tr>\n",
       "    <tr>\n",
       "      <th>3</th>\n",
       "      <td>3</td>\n",
       "      <td>0</td>\n",
       "      <td>59.38</td>\n",
       "    </tr>\n",
       "    <tr>\n",
       "      <th>4</th>\n",
       "      <td>4</td>\n",
       "      <td>0</td>\n",
       "      <td>59.21</td>\n",
       "    </tr>\n",
       "    <tr>\n",
       "      <th>...</th>\n",
       "      <td>...</td>\n",
       "      <td>...</td>\n",
       "      <td>...</td>\n",
       "    </tr>\n",
       "    <tr>\n",
       "      <th>12495</th>\n",
       "      <td>245</td>\n",
       "      <td>49</td>\n",
       "      <td>43.02</td>\n",
       "    </tr>\n",
       "    <tr>\n",
       "      <th>12496</th>\n",
       "      <td>246</td>\n",
       "      <td>49</td>\n",
       "      <td>43.03</td>\n",
       "    </tr>\n",
       "    <tr>\n",
       "      <th>12497</th>\n",
       "      <td>247</td>\n",
       "      <td>49</td>\n",
       "      <td>43.57</td>\n",
       "    </tr>\n",
       "    <tr>\n",
       "      <th>12498</th>\n",
       "      <td>248</td>\n",
       "      <td>49</td>\n",
       "      <td>43.13</td>\n",
       "    </tr>\n",
       "    <tr>\n",
       "      <th>12499</th>\n",
       "      <td>249</td>\n",
       "      <td>49</td>\n",
       "      <td>43.33</td>\n",
       "    </tr>\n",
       "  </tbody>\n",
       "</table>\n",
       "<p>12500 rows × 3 columns</p>\n",
       "</div>"
      ],
      "text/plain": [
       "       date  stock  closePrice\n",
       "0         0      0       60.17\n",
       "1         1      0       59.99\n",
       "2         2      0       59.66\n",
       "3         3      0       59.38\n",
       "4         4      0       59.21\n",
       "...     ...    ...         ...\n",
       "12495   245     49       43.02\n",
       "12496   246     49       43.03\n",
       "12497   247     49       43.57\n",
       "12498   248     49       43.13\n",
       "12499   249     49       43.33\n",
       "\n",
       "[12500 rows x 3 columns]"
      ]
     },
     "execution_count": 25,
     "metadata": {},
     "output_type": "execute_result"
    }
   ],
   "source": [
    "data"
   ]
  },
  {
   "cell_type": "code",
   "execution_count": 26,
   "id": "13837116",
   "metadata": {},
   "outputs": [],
   "source": [
    "data['log_closePrice'] = np.log(data['closePrice'])"
   ]
  },
  {
   "cell_type": "code",
   "execution_count": 49,
   "id": "e1efb63b",
   "metadata": {},
   "outputs": [
    {
     "name": "stdout",
     "output_type": "stream",
     "text": [
      "   stockP  stockQ\n",
      "0     8.0    22.0\n",
      "0     8.0    26.0\n",
      "0    12.0    30.0\n",
      "0    13.0    18.0\n",
      "0    13.0    20.0\n",
      "0    13.0    29.0\n",
      "0    13.0    34.0\n",
      "0    13.0    41.0\n",
      "0    13.0    43.0\n",
      "0    13.0    44.0\n",
      "0    13.0    48.0\n",
      "0    15.0    32.0\n",
      "0    15.0    38.0\n",
      "0    17.0    37.0\n",
      "0    20.0    39.0\n",
      "0    22.0    23.0\n",
      "0    24.0    38.0\n",
      "0    25.0    28.0\n",
      "0    27.0    30.0\n",
      "0    27.0    37.0\n",
      "0    27.0    38.0\n",
      "0    27.0    39.0\n",
      "0    27.0    46.0\n",
      "0    27.0    47.0\n",
      "0    31.0    37.0\n",
      "0    31.0    46.0\n",
      "0    32.0    38.0\n",
      "0    34.0    48.0\n",
      "0    36.0    41.0\n",
      "0    36.0    42.0\n",
      "0    36.0    48.0\n"
     ]
    }
   ],
   "source": [
    "colint_stock_list_ct = []\n",
    "df = pd.DataFrame({'stockP':[],'stockQ':[]})\n",
    "for stock_i in range(50):\n",
    "\n",
    "    stock_i_df = data[data['stock'] == stock_i]\n",
    "\n",
    "    for stock_j in range(stock_i+1, 50):\n",
    "        \n",
    "        stock_j_df = data[data['stock'] == stock_j]\n",
    "\n",
    "        outcome = coint(stock_i_df['log_closePrice'], stock_j_df['log_closePrice'], trend = 'ct')\n",
    "\n",
    "        if outcome[1] < 0.05:\n",
    "           #colint_stock_list_ct.append([stock_i, stock_j])\n",
    "           df2 = pd.DataFrame({'stockP':[stock_i],'stockQ':[stock_j]})\n",
    "           df = pd.concat([df,df2])\n",
    "print(df)"
   ]
  },
  {
   "cell_type": "code",
   "execution_count": 103,
   "id": "8d3f2143",
   "metadata": {},
   "outputs": [
    {
     "name": "stdout",
     "output_type": "stream",
     "text": [
      "   stockP  stockQ  coefficient  intercept\n",
      "0     8.0    22.0    -1.067759   6.629338\n",
      "0     8.0    26.0    -0.032027   2.446794\n",
      "0    12.0    30.0     3.045193  -9.240250\n",
      "0    13.0    18.0    -1.530585   8.960150\n",
      "0    13.0    20.0    -0.726373   6.057295\n",
      "0    13.0    29.0    -0.706729   6.084968\n",
      "0    13.0    34.0    -0.566158   5.618007\n",
      "0    13.0    41.0    -0.764053   6.406108\n",
      "0    13.0    43.0    -0.843948   6.724755\n",
      "0    13.0    44.0    -0.890198   6.909589\n",
      "0    13.0    48.0    -0.931865   7.081624\n",
      "0    15.0    32.0    -0.892145   6.941916\n",
      "0    15.0    38.0    -0.884693   6.907586\n",
      "0    17.0    37.0    -0.884222   6.903192\n",
      "0    20.0    39.0    -0.940855   7.144656\n",
      "0    22.0    23.0    -0.657422   6.114239\n",
      "0    24.0    38.0    -0.674349   6.204734\n",
      "0    25.0    28.0    -0.666412   6.181151\n",
      "0    27.0    30.0    -0.600019   5.941626\n",
      "0    27.0    37.0    -0.594695   5.926947\n",
      "0    27.0    38.0    -0.593066   5.923945\n",
      "0    27.0    39.0    -0.593457   5.926452\n",
      "0    27.0    46.0    -0.595725   5.935841\n",
      "0    27.0    47.0    -0.592973   5.924968\n",
      "0    31.0    37.0    -0.577602   5.880561\n",
      "0    31.0    46.0    -0.607853   6.004653\n",
      "0    32.0    38.0    -0.614378   6.038531\n",
      "0    34.0    48.0    -0.639679   6.139116\n",
      "0    36.0    41.0    -0.626241   6.086823\n",
      "0    36.0    42.0    -0.608941   6.019782\n",
      "0    36.0    48.0    -0.613734   6.038978\n"
     ]
    }
   ],
   "source": [
    "#define predictor and response variables\n",
    "chosendata = pd.DataFrame({'stockP':[],'stockQ':[]})\n",
    "coefficient = pd.DataFrame({'stockP':[],'stockQ':[],'coefficient':[],'intercept':[]})\n",
    "for j in range(len(df)):\n",
    "\n",
    "    for i in range(50):\n",
    "        pairdata = pd.DataFrame({'stockP':[data['log_closePrice'][df.iloc[j]['stockP']*50+i]],'stockQ':[data['log_closePrice'][df.iloc[j]['stockQ']*50+i]]})\n",
    "        chosendata = pd.concat([chosendata,pairdata])\n",
    "    y = chosendata['stockP']\n",
    "    x = chosendata['stockQ']\n",
    "    x = sm.add_constant(x)\n",
    "    model = sm.OLS(y, x).fit()\n",
    "    coef = model.params[1]\n",
    "    const = model.params[0]\n",
    "    information = pd.DataFrame({'stockP':[df.iloc[j]['stockP']],'stockQ':[df.iloc[j]['stockQ']],'coefficient':[coef],'intercept':[const]})\n",
    "    coefficient = pd.concat([coefficient,information])\n",
    "print(coefficient)"
   ]
  },
  {
   "cell_type": "code",
   "execution_count": 100,
   "id": "56388915",
   "metadata": {},
   "outputs": [
    {
     "data": {
      "text/plain": [
       "-0.6137335053160695"
      ]
     },
     "execution_count": 100,
     "metadata": {},
     "output_type": "execute_result"
    }
   ],
   "source": [
    "coef"
   ]
  },
  {
   "cell_type": "code",
   "execution_count": 95,
   "id": "71fd9ef6",
   "metadata": {},
   "outputs": [
    {
     "data": {
      "text/plain": [
       "27.0"
      ]
     },
     "execution_count": 95,
     "metadata": {},
     "output_type": "execute_result"
    }
   ],
   "source": [
    "df.iloc[19]['stockP']"
   ]
  }
 ],
 "metadata": {
  "kernelspec": {
   "display_name": "Python 3 (ipykernel)",
   "language": "python",
   "name": "python3"
  },
  "language_info": {
   "codemirror_mode": {
    "name": "ipython",
    "version": 3
   },
   "file_extension": ".py",
   "mimetype": "text/x-python",
   "name": "python",
   "nbconvert_exporter": "python",
   "pygments_lexer": "ipython3",
   "version": "3.9.13"
  }
 },
 "nbformat": 4,
 "nbformat_minor": 5
}
