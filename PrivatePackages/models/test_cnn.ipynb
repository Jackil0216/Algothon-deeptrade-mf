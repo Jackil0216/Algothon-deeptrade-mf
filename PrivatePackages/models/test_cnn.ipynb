{
 "cells": [
  {
   "attachments": {},
   "cell_type": "markdown",
   "metadata": {},
   "source": [
    "k * f"
   ]
  },
  {
   "cell_type": "code",
   "execution_count": 114,
   "metadata": {},
   "outputs": [
    {
     "name": "stdout",
     "output_type": "stream",
     "text": [
      "tensor([[[[0.0000],\n",
      "          [0.0000],\n",
      "          [0.0000],\n",
      "          [0.0000]],\n",
      "\n",
      "         [[0.0000],\n",
      "          [0.0000],\n",
      "          [0.0000],\n",
      "          [0.0000]],\n",
      "\n",
      "         [[0.0628],\n",
      "          [0.0628],\n",
      "          [0.0628],\n",
      "          [0.0628]]],\n",
      "\n",
      "\n",
      "        [[[0.0000],\n",
      "          [0.0000],\n",
      "          [0.0000],\n",
      "          [0.0000]],\n",
      "\n",
      "         [[0.0000],\n",
      "          [0.0000],\n",
      "          [0.0000],\n",
      "          [0.0000]],\n",
      "\n",
      "         [[0.0628],\n",
      "          [0.0628],\n",
      "          [0.0628],\n",
      "          [0.0628]]]], grad_fn=<ReluBackward0>)\n"
     ]
    }
   ],
   "source": [
    "import numpy as np\n",
    "import torch\n",
    "import torch.nn as nn\n",
    "\n",
    "# Create a sample batch with two images\n",
    "sample = np.array([[\n",
    "                [[0.1, 0.2, 0.3],\n",
    "                [0.1, 0.2, 0.3],\n",
    "                [0.1, 0.2, 0.3],\n",
    "                [0.1, 0.2, 0.3],\n",
    "                [0.1, 0.2, 0.3]]\n",
    "                ],\n",
    "                [\n",
    "                [[0.1, 0.2, 0.3],\n",
    "                [0.1, 0.2, 0.3],\n",
    "                [0.1, 0.2, 0.3],\n",
    "                [0.1, 0.2, 0.3],\n",
    "                [0.1, 0.2, 0.3]]\n",
    "                ]])\n",
    "\n",
    "# Convert the NumPy array to a PyTorch tensor\n",
    "sample_tensor = torch.tensor(sample, dtype=torch.float32)\n",
    "\n",
    "# Define the convolution layer\n",
    "conv2d = torch.nn.Conv2d(in_channels=1, out_channels=3, kernel_size=[2, 3], stride=1)\n",
    "\n",
    "\n",
    "\n",
    "\n",
    "# Apply the convolution operation\n",
    "output = conv2d(sample_tensor)\n",
    "\n",
    "output = nn.ReLU()(output)\n",
    "\n",
    "# Print the result\n",
    "print(output)\n"
   ]
  },
  {
   "cell_type": "code",
   "execution_count": 115,
   "metadata": {},
   "outputs": [
    {
     "name": "stdout",
     "output_type": "stream",
     "text": [
      "tensor([[[[0.0000],\n",
      "          [0.0000]],\n",
      "\n",
      "         [[0.0000],\n",
      "          [0.0000]],\n",
      "\n",
      "         [[0.0628],\n",
      "          [0.0628]]],\n",
      "\n",
      "\n",
      "        [[[0.0000],\n",
      "          [0.0000]],\n",
      "\n",
      "         [[0.0000],\n",
      "          [0.0000]],\n",
      "\n",
      "         [[0.0628],\n",
      "          [0.0628]]]], grad_fn=<MaxPool2DWithIndicesBackward0>)\n"
     ]
    }
   ],
   "source": [
    "maxpool = torch.nn.MaxPool2d(kernel_size=[2, 1], stride=2)\n",
    "\n",
    "output2 = maxpool(output)\n",
    "\n",
    "print(output2)"
   ]
  },
  {
   "cell_type": "code",
   "execution_count": 116,
   "metadata": {},
   "outputs": [],
   "source": [
    "# output2.shape"
   ]
  },
  {
   "cell_type": "code",
   "execution_count": 117,
   "metadata": {},
   "outputs": [
    {
     "name": "stdout",
     "output_type": "stream",
     "text": [
      "tensor([[[[0.0000]],\n",
      "\n",
      "         [[0.2015]],\n",
      "\n",
      "         [[0.0000]],\n",
      "\n",
      "         [[0.0000]],\n",
      "\n",
      "         [[0.1370]],\n",
      "\n",
      "         [[0.0000]]],\n",
      "\n",
      "\n",
      "        [[[0.0000]],\n",
      "\n",
      "         [[0.2015]],\n",
      "\n",
      "         [[0.0000]],\n",
      "\n",
      "         [[0.0000]],\n",
      "\n",
      "         [[0.1370]],\n",
      "\n",
      "         [[0.0000]]]], grad_fn=<ReluBackward0>)\n"
     ]
    }
   ],
   "source": [
    "conv2d_2 = torch.nn.Conv2d(in_channels=3, out_channels=3*2, kernel_size=[2, 1], stride=1)\n",
    "\n",
    "output3 = conv2d_2(output2)\n",
    "\n",
    "output3 = nn.ReLU()(output3)\n",
    "\n",
    "print(output3)"
   ]
  },
  {
   "cell_type": "code",
   "execution_count": 118,
   "metadata": {},
   "outputs": [
    {
     "data": {
      "text/plain": [
       "tensor([[0.0000, 0.2015, 0.0000, 0.0000, 0.1370, 0.0000],\n",
       "        [0.0000, 0.2015, 0.0000, 0.0000, 0.1370, 0.0000]],\n",
       "       grad_fn=<SqueezeBackward1>)"
      ]
     },
     "execution_count": 118,
     "metadata": {},
     "output_type": "execute_result"
    }
   ],
   "source": [
    "output3.squeeze(-1).squeeze(-1)"
   ]
  },
  {
   "cell_type": "code",
   "execution_count": 119,
   "metadata": {},
   "outputs": [],
   "source": [
    "linear = nn.Linear(6, 6)"
   ]
  },
  {
   "cell_type": "code",
   "execution_count": 120,
   "metadata": {},
   "outputs": [
    {
     "data": {
      "text/plain": [
       "tensor([[-0.3906,  0.3673, -0.4096, -0.2764, -0.2987,  0.3283],\n",
       "        [-0.3906,  0.3673, -0.4096, -0.2764, -0.2987,  0.3283]],\n",
       "       grad_fn=<AddmmBackward0>)"
      ]
     },
     "execution_count": 120,
     "metadata": {},
     "output_type": "execute_result"
    }
   ],
   "source": [
    "linear(output3.squeeze(-1).squeeze(-1))"
   ]
  },
  {
   "cell_type": "code",
   "execution_count": null,
   "metadata": {},
   "outputs": [],
   "source": []
  },
  {
   "attachments": {},
   "cell_type": "markdown",
   "metadata": {},
   "source": [
    "1 * f"
   ]
  },
  {
   "cell_type": "code",
   "execution_count": 121,
   "metadata": {},
   "outputs": [
    {
     "name": "stdout",
     "output_type": "stream",
     "text": [
      "tensor([[[[0.0000, 0.0000, 0.0000],\n",
      "          [0.0000, 0.0000, 0.0000],\n",
      "          [0.0000, 0.0000, 0.0000],\n",
      "          [0.0000, 0.0000, 0.0000]],\n",
      "\n",
      "         [[0.0196, 0.0000, 0.0000],\n",
      "          [0.0196, 0.0000, 0.0000],\n",
      "          [0.0196, 0.0000, 0.0000],\n",
      "          [0.0196, 0.0000, 0.0000]],\n",
      "\n",
      "         [[0.0000, 0.0000, 0.0000],\n",
      "          [0.0000, 0.0000, 0.0000],\n",
      "          [0.0000, 0.0000, 0.0000],\n",
      "          [0.0000, 0.0000, 0.0000]]],\n",
      "\n",
      "\n",
      "        [[[0.0000, 0.0000, 0.0000],\n",
      "          [0.0000, 0.0000, 0.0000],\n",
      "          [0.0000, 0.0000, 0.0000],\n",
      "          [0.0000, 0.0000, 0.0000]],\n",
      "\n",
      "         [[0.0196, 0.0000, 0.0000],\n",
      "          [0.0196, 0.0000, 0.0000],\n",
      "          [0.0196, 0.0000, 0.0000],\n",
      "          [0.0196, 0.0000, 0.0000]],\n",
      "\n",
      "         [[0.0000, 0.0000, 0.0000],\n",
      "          [0.0000, 0.0000, 0.0000],\n",
      "          [0.0000, 0.0000, 0.0000],\n",
      "          [0.0000, 0.0000, 0.0000]]]], grad_fn=<ReluBackward0>)\n"
     ]
    }
   ],
   "source": [
    "import numpy as np\n",
    "import torch\n",
    "import torch.nn as nn\n",
    "\n",
    "# Create a sample batch with two images\n",
    "sample = np.array([[\n",
    "                [[0.1, 0.2, 0.3],\n",
    "                [0.1, 0.2, 0.3],\n",
    "                [0.1, 0.2, 0.3],\n",
    "                [0.1, 0.2, 0.3],\n",
    "                [0.1, 0.2, 0.3]]\n",
    "                ],\n",
    "                [\n",
    "                [[0.1, 0.2, 0.3],\n",
    "                [0.1, 0.2, 0.3],\n",
    "                [0.1, 0.2, 0.3],\n",
    "                [0.1, 0.2, 0.3],\n",
    "                [0.1, 0.2, 0.3]]\n",
    "                ]])\n",
    "\n",
    "# Convert the NumPy array to a PyTorch tensor\n",
    "sample_tensor = torch.tensor(sample, dtype=torch.float32)\n",
    "\n",
    "# Define the convolution layer\n",
    "conv2d = torch.nn.Conv2d(in_channels=1, out_channels=3, kernel_size=[2, 1], stride=1)\n",
    "\n",
    "# Apply the convolution operation\n",
    "output = conv2d(sample_tensor)\n",
    "\n",
    "output = nn.ReLU()(output)\n",
    "\n",
    "# Print the result\n",
    "print(output)"
   ]
  },
  {
   "cell_type": "code",
   "execution_count": 122,
   "metadata": {},
   "outputs": [
    {
     "name": "stdout",
     "output_type": "stream",
     "text": [
      "tensor([[[[0.0000, 0.0000, 0.0000],\n",
      "          [0.0000, 0.0000, 0.0000]],\n",
      "\n",
      "         [[0.0196, 0.0000, 0.0000],\n",
      "          [0.0196, 0.0000, 0.0000]],\n",
      "\n",
      "         [[0.0000, 0.0000, 0.0000],\n",
      "          [0.0000, 0.0000, 0.0000]]],\n",
      "\n",
      "\n",
      "        [[[0.0000, 0.0000, 0.0000],\n",
      "          [0.0000, 0.0000, 0.0000]],\n",
      "\n",
      "         [[0.0196, 0.0000, 0.0000],\n",
      "          [0.0196, 0.0000, 0.0000]],\n",
      "\n",
      "         [[0.0000, 0.0000, 0.0000],\n",
      "          [0.0000, 0.0000, 0.0000]]]], grad_fn=<MaxPool2DWithIndicesBackward0>)\n"
     ]
    }
   ],
   "source": [
    "maxpool = torch.nn.MaxPool2d(kernel_size=[2, 1], stride=[2, 1])\n",
    "\n",
    "output2 = maxpool(output)\n",
    "\n",
    "print(output2)"
   ]
  },
  {
   "cell_type": "code",
   "execution_count": 123,
   "metadata": {},
   "outputs": [
    {
     "name": "stdout",
     "output_type": "stream",
     "text": [
      "tensor([[[[0.0000, 0.0000, 0.0000]],\n",
      "\n",
      "         [[0.0000, 0.0000, 0.0000]],\n",
      "\n",
      "         [[0.0000, 0.0000, 0.0000]],\n",
      "\n",
      "         [[0.0000, 0.0001, 0.0001]],\n",
      "\n",
      "         [[0.0000, 0.0000, 0.0000]],\n",
      "\n",
      "         [[0.0000, 0.0000, 0.0000]]],\n",
      "\n",
      "\n",
      "        [[[0.0000, 0.0000, 0.0000]],\n",
      "\n",
      "         [[0.0000, 0.0000, 0.0000]],\n",
      "\n",
      "         [[0.0000, 0.0000, 0.0000]],\n",
      "\n",
      "         [[0.0000, 0.0001, 0.0001]],\n",
      "\n",
      "         [[0.0000, 0.0000, 0.0000]],\n",
      "\n",
      "         [[0.0000, 0.0000, 0.0000]]]], grad_fn=<ReluBackward0>)\n"
     ]
    }
   ],
   "source": [
    "conv2d_2 = torch.nn.Conv2d(in_channels=3, out_channels=3*2, kernel_size=[2, 1], stride=1)\n",
    "\n",
    "output3 = conv2d_2(output2)\n",
    "\n",
    "output3 = nn.ReLU()(output3)\n",
    "\n",
    "print(output3)"
   ]
  },
  {
   "cell_type": "code",
   "execution_count": 124,
   "metadata": {},
   "outputs": [
    {
     "data": {
      "text/plain": [
       "tensor([[0.0000, 0.0000, 0.0000, 0.0000, 0.0000, 0.0000, 0.0000, 0.0000, 0.0000,\n",
       "         0.0000, 0.0001, 0.0001, 0.0000, 0.0000, 0.0000, 0.0000, 0.0000, 0.0000],\n",
       "        [0.0000, 0.0000, 0.0000, 0.0000, 0.0000, 0.0000, 0.0000, 0.0000, 0.0000,\n",
       "         0.0000, 0.0001, 0.0001, 0.0000, 0.0000, 0.0000, 0.0000, 0.0000, 0.0000]],\n",
       "       grad_fn=<ViewBackward0>)"
      ]
     },
     "execution_count": 124,
     "metadata": {},
     "output_type": "execute_result"
    }
   ],
   "source": [
    "output3.squeeze(2).squeeze().view(2, -1)"
   ]
  },
  {
   "cell_type": "code",
   "execution_count": 62,
   "metadata": {},
   "outputs": [
    {
     "data": {
      "text/plain": [
       "torch.Size([2, 6, 3])"
      ]
     },
     "execution_count": 62,
     "metadata": {},
     "output_type": "execute_result"
    }
   ],
   "source": [
    "# output3.squeeze(2).shape"
   ]
  },
  {
   "cell_type": "code",
   "execution_count": 125,
   "metadata": {},
   "outputs": [],
   "source": [
    "linear = nn.Linear(18, 18)"
   ]
  },
  {
   "cell_type": "code",
   "execution_count": 126,
   "metadata": {},
   "outputs": [
    {
     "data": {
      "text/plain": [
       "tensor([[ 0.1454, -0.1280,  0.1212,  0.1041, -0.1520,  0.1633, -0.2259,  0.1657,\n",
       "          0.1884,  0.1912, -0.1242,  0.0899, -0.2008,  0.0369,  0.0685,  0.2056,\n",
       "         -0.2348,  0.1385],\n",
       "        [ 0.1454, -0.1280,  0.1212,  0.1041, -0.1520,  0.1633, -0.2259,  0.1657,\n",
       "          0.1884,  0.1912, -0.1242,  0.0899, -0.2008,  0.0369,  0.0685,  0.2056,\n",
       "         -0.2348,  0.1385]], grad_fn=<AddmmBackward0>)"
      ]
     },
     "execution_count": 126,
     "metadata": {},
     "output_type": "execute_result"
    }
   ],
   "source": [
    "linear(output3.squeeze(2).squeeze().view(2, -1))"
   ]
  },
  {
   "cell_type": "code",
   "execution_count": null,
   "metadata": {},
   "outputs": [],
   "source": []
  },
  {
   "attachments": {},
   "cell_type": "markdown",
   "metadata": {},
   "source": [
    "indiv 1*f"
   ]
  },
  {
   "cell_type": "code",
   "execution_count": 129,
   "metadata": {},
   "outputs": [
    {
     "name": "stdout",
     "output_type": "stream",
     "text": [
      "tensor([[[[0.0000, 0.0000, 0.0000],\n",
      "          [0.0000, 0.0000, 0.0000],\n",
      "          [0.0000, 0.0000, 0.0000],\n",
      "          [0.0000, 0.0000, 0.0000]],\n",
      "\n",
      "         [[0.0000, 0.0000, 0.0000],\n",
      "          [0.0000, 0.0000, 0.0000],\n",
      "          [0.0000, 0.0000, 0.0000],\n",
      "          [0.0000, 0.0000, 0.0000]],\n",
      "\n",
      "         [[0.4093, 0.4654, 0.5214],\n",
      "          [0.4093, 0.4654, 0.5214],\n",
      "          [0.4093, 0.4654, 0.5214],\n",
      "          [0.4093, 0.4654, 0.5214]]],\n",
      "\n",
      "\n",
      "        [[[0.0000, 0.0000, 0.0000],\n",
      "          [0.0000, 0.0000, 0.0000],\n",
      "          [0.0000, 0.0000, 0.0000],\n",
      "          [0.0000, 0.0000, 0.0000]],\n",
      "\n",
      "         [[0.0000, 0.0000, 0.0000],\n",
      "          [0.0000, 0.0000, 0.0000],\n",
      "          [0.0000, 0.0000, 0.0000],\n",
      "          [0.0000, 0.0000, 0.0000]],\n",
      "\n",
      "         [[0.4093, 0.4654, 0.5214],\n",
      "          [0.4093, 0.4654, 0.5214],\n",
      "          [0.4093, 0.4654, 0.5214],\n",
      "          [0.4093, 0.4654, 0.5214]]]], grad_fn=<ReluBackward0>)\n"
     ]
    }
   ],
   "source": [
    "import numpy as np\n",
    "import torch\n",
    "import torch.nn as nn\n",
    "\n",
    "# Create a sample batch with two images\n",
    "sample = np.array([[\n",
    "                [[0.1, 0.2, 0.3],\n",
    "                [0.1, 0.2, 0.3],\n",
    "                [0.1, 0.2, 0.3],\n",
    "                [0.1, 0.2, 0.3],\n",
    "                [0.1, 0.2, 0.3]]\n",
    "                ],\n",
    "                [\n",
    "                [[0.1, 0.2, 0.3],\n",
    "                [0.1, 0.2, 0.3],\n",
    "                [0.1, 0.2, 0.3],\n",
    "                [0.1, 0.2, 0.3],\n",
    "                [0.1, 0.2, 0.3]]\n",
    "                ]])\n",
    "\n",
    "# Convert the NumPy array to a PyTorch tensor\n",
    "sample_tensor = torch.tensor(sample, dtype=torch.float32)\n",
    "\n",
    "# Define the convolution layer\n",
    "conv2d = torch.nn.Conv2d(in_channels=1, out_channels=3, kernel_size=[2, 1], stride=1)\n",
    "\n",
    "# Apply the convolution operation\n",
    "output1 = conv2d(sample_tensor[:, :, :, 0].unsqueeze(-1))\n",
    "output2 = conv2d(sample_tensor[:, :, :, 1].unsqueeze(-1))\n",
    "output3 = conv2d(sample_tensor[:, :, :, 2].unsqueeze(-1))\n",
    "\n",
    "# Concatenate the outputs\n",
    "output = torch.cat([output1, output2, output3], dim=-1)\n",
    "\n",
    "output = nn.ReLU()(output)\n",
    "\n",
    "# Print the result\n",
    "print(output)"
   ]
  },
  {
   "cell_type": "code",
   "execution_count": 130,
   "metadata": {},
   "outputs": [
    {
     "name": "stdout",
     "output_type": "stream",
     "text": [
      "tensor([[[[0.0000, 0.0000, 0.0000],\n",
      "          [0.0000, 0.0000, 0.0000]],\n",
      "\n",
      "         [[0.0000, 0.0000, 0.0000],\n",
      "          [0.0000, 0.0000, 0.0000]],\n",
      "\n",
      "         [[0.4093, 0.4654, 0.5214],\n",
      "          [0.4093, 0.4654, 0.5214]]],\n",
      "\n",
      "\n",
      "        [[[0.0000, 0.0000, 0.0000],\n",
      "          [0.0000, 0.0000, 0.0000]],\n",
      "\n",
      "         [[0.0000, 0.0000, 0.0000],\n",
      "          [0.0000, 0.0000, 0.0000]],\n",
      "\n",
      "         [[0.4093, 0.4654, 0.5214],\n",
      "          [0.4093, 0.4654, 0.5214]]]], grad_fn=<MaxPool2DWithIndicesBackward0>)\n"
     ]
    }
   ],
   "source": [
    "maxpool = torch.nn.MaxPool2d(kernel_size=[2, 1], stride=[2, 1])\n",
    "\n",
    "output2 = maxpool(output)\n",
    "\n",
    "print(output2)"
   ]
  },
  {
   "cell_type": "code",
   "execution_count": 107,
   "metadata": {},
   "outputs": [
    {
     "data": {
      "text/plain": [
       "tensor([[[[-0.3601],\n",
       "          [-0.3601]],\n",
       "\n",
       "         [[-0.6328],\n",
       "          [-0.6328]],\n",
       "\n",
       "         [[ 0.0087],\n",
       "          [ 0.0087]]],\n",
       "\n",
       "\n",
       "        [[[-0.3601],\n",
       "          [-0.3601]],\n",
       "\n",
       "         [[-0.6328],\n",
       "          [-0.6328]],\n",
       "\n",
       "         [[ 0.0087],\n",
       "          [ 0.0087]]]], grad_fn=<UnsqueezeBackward0>)"
      ]
     },
     "execution_count": 107,
     "metadata": {},
     "output_type": "execute_result"
    }
   ],
   "source": [
    "output2[:, :, :, 1].unsqueeze(-1)"
   ]
  },
  {
   "cell_type": "code",
   "execution_count": 131,
   "metadata": {},
   "outputs": [
    {
     "name": "stdout",
     "output_type": "stream",
     "text": [
      "tensor([[[[0.3934, 0.3981, 0.4028]],\n",
      "\n",
      "         [[0.0000, 0.0000, 0.0283]],\n",
      "\n",
      "         [[0.1054, 0.0966, 0.0878]],\n",
      "\n",
      "         [[0.0000, 0.0000, 0.0000]],\n",
      "\n",
      "         [[0.0000, 0.0000, 0.0000]],\n",
      "\n",
      "         [[0.0000, 0.0000, 0.0000]]],\n",
      "\n",
      "\n",
      "        [[[0.3934, 0.3981, 0.4028]],\n",
      "\n",
      "         [[0.0000, 0.0000, 0.0283]],\n",
      "\n",
      "         [[0.1054, 0.0966, 0.0878]],\n",
      "\n",
      "         [[0.0000, 0.0000, 0.0000]],\n",
      "\n",
      "         [[0.0000, 0.0000, 0.0000]],\n",
      "\n",
      "         [[0.0000, 0.0000, 0.0000]]]], grad_fn=<ReluBackward0>)\n"
     ]
    }
   ],
   "source": [
    "conv2d_2 = torch.nn.Conv2d(in_channels=3, out_channels=3*2, kernel_size=[2, 1], stride=1)\n",
    "\n",
    "# Apply the convolution operation\n",
    "output2_1 = conv2d_2(output2[:, :, :, 0].unsqueeze(-1))\n",
    "output2_2 = conv2d_2(output2[:, :, :, 1].unsqueeze(-1))\n",
    "output2_3 = conv2d_2(output2[:, :, :, 2].unsqueeze(-1))\n",
    "\n",
    "# Concatenate the outputs\n",
    "output3 = torch.cat([output2_1, output2_2, output2_3], dim= -1)\n",
    "\n",
    "output3 = nn.ReLU()(output3)\n",
    "\n",
    "print(output3)"
   ]
  },
  {
   "cell_type": "code",
   "execution_count": 132,
   "metadata": {},
   "outputs": [
    {
     "data": {
      "text/plain": [
       "tensor([[0.3934, 0.3981, 0.4028, 0.0000, 0.0000, 0.0283, 0.1054, 0.0966, 0.0878,\n",
       "         0.0000, 0.0000, 0.0000, 0.0000, 0.0000, 0.0000, 0.0000, 0.0000, 0.0000],\n",
       "        [0.3934, 0.3981, 0.4028, 0.0000, 0.0000, 0.0283, 0.1054, 0.0966, 0.0878,\n",
       "         0.0000, 0.0000, 0.0000, 0.0000, 0.0000, 0.0000, 0.0000, 0.0000, 0.0000]],\n",
       "       grad_fn=<ViewBackward0>)"
      ]
     },
     "execution_count": 132,
     "metadata": {},
     "output_type": "execute_result"
    }
   ],
   "source": [
    "output3.squeeze(2).squeeze().view(2, -1)"
   ]
  },
  {
   "cell_type": "code",
   "execution_count": 133,
   "metadata": {},
   "outputs": [],
   "source": [
    "linear = nn.Linear(18, 18)"
   ]
  },
  {
   "cell_type": "code",
   "execution_count": 134,
   "metadata": {},
   "outputs": [
    {
     "data": {
      "text/plain": [
       "tensor([[ 0.2331,  0.0246,  0.1755,  0.0873,  0.0515,  0.2342,  0.2422,  0.1798,\n",
       "         -0.0835, -0.0174,  0.0634, -0.2209, -0.0689,  0.0290,  0.1012, -0.1497,\n",
       "         -0.2451,  0.1000],\n",
       "        [ 0.2331,  0.0246,  0.1755,  0.0873,  0.0515,  0.2342,  0.2422,  0.1798,\n",
       "         -0.0835, -0.0174,  0.0634, -0.2209, -0.0689,  0.0290,  0.1012, -0.1497,\n",
       "         -0.2451,  0.1000]], grad_fn=<AddmmBackward0>)"
      ]
     },
     "execution_count": 134,
     "metadata": {},
     "output_type": "execute_result"
    }
   ],
   "source": [
    "linear(output3.squeeze(2).squeeze().view(2, -1))"
   ]
  },
  {
   "cell_type": "code",
   "execution_count": null,
   "metadata": {},
   "outputs": [],
   "source": []
  }
 ],
 "metadata": {
  "kernelspec": {
   "display_name": "base",
   "language": "python",
   "name": "python3"
  },
  "language_info": {
   "codemirror_mode": {
    "name": "ipython",
    "version": 3
   },
   "file_extension": ".py",
   "mimetype": "text/x-python",
   "name": "python",
   "nbconvert_exporter": "python",
   "pygments_lexer": "ipython3",
   "version": "3.9.7"
  },
  "orig_nbformat": 4
 },
 "nbformat": 4,
 "nbformat_minor": 2
}
