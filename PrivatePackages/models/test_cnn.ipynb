{
 "cells": [
  {
   "attachments": {},
   "cell_type": "markdown",
   "metadata": {},
   "source": [
    "k * f"
   ]
  },
  {
   "cell_type": "code",
   "execution_count": 4,
   "metadata": {},
   "outputs": [
    {
     "name": "stdout",
     "output_type": "stream",
     "text": [
      "tensor([[[[0.3338],\n",
      "          [0.3338],\n",
      "          [0.3338],\n",
      "          [0.3338]],\n",
      "\n",
      "         [[0.0000],\n",
      "          [0.0000],\n",
      "          [0.0000],\n",
      "          [0.0000]],\n",
      "\n",
      "         [[0.0119],\n",
      "          [0.0119],\n",
      "          [0.0119],\n",
      "          [0.0119]]],\n",
      "\n",
      "\n",
      "        [[[0.3338],\n",
      "          [0.3338],\n",
      "          [0.3338],\n",
      "          [0.3338]],\n",
      "\n",
      "         [[0.0000],\n",
      "          [0.0000],\n",
      "          [0.0000],\n",
      "          [0.0000]],\n",
      "\n",
      "         [[0.0119],\n",
      "          [0.0119],\n",
      "          [0.0119],\n",
      "          [0.0119]]]], grad_fn=<ReluBackward0>)\n"
     ]
    }
   ],
   "source": [
    "import numpy as np\n",
    "import torch\n",
    "import torch.nn as nn\n",
    "\n",
    "# Create a sample batch with two images\n",
    "sample = np.array([[\n",
    "                [[0.1, 0.2, 0.3],\n",
    "                [0.1, 0.2, 0.3],\n",
    "                [0.1, 0.2, 0.3],\n",
    "                [0.1, 0.2, 0.3],\n",
    "                [0.1, 0.2, 0.3]]\n",
    "                ],\n",
    "                [\n",
    "                [[0.1, 0.2, 0.3],\n",
    "                [0.1, 0.2, 0.3],\n",
    "                [0.1, 0.2, 0.3],\n",
    "                [0.1, 0.2, 0.3],\n",
    "                [0.1, 0.2, 0.3]]\n",
    "                ]])\n",
    "\n",
    "# Convert the NumPy array to a PyTorch tensor\n",
    "sample_tensor = torch.tensor(sample, dtype=torch.float32)\n",
    "\n",
    "# Define the convolution layer\n",
    "conv2d = torch.nn.Conv2d(in_channels=1, out_channels=3, kernel_size=[2, 3], stride=1)\n",
    "\n",
    "\n",
    "\n",
    "\n",
    "# Apply the convolution operation\n",
    "output = conv2d(sample_tensor)\n",
    "\n",
    "output = nn.ReLU()(output)\n",
    "\n",
    "# Print the result\n",
    "print(output)\n"
   ]
  },
  {
   "cell_type": "code",
   "execution_count": 8,
   "metadata": {},
   "outputs": [
    {
     "name": "stdout",
     "output_type": "stream",
     "text": [
      "tensor([[[[0.3338],\n",
      "          [0.3338]],\n",
      "\n",
      "         [[0.0000],\n",
      "          [0.0000]],\n",
      "\n",
      "         [[0.0119],\n",
      "          [0.0119]]],\n",
      "\n",
      "\n",
      "        [[[0.3338],\n",
      "          [0.3338]],\n",
      "\n",
      "         [[0.0000],\n",
      "          [0.0000]],\n",
      "\n",
      "         [[0.0119],\n",
      "          [0.0119]]]], grad_fn=<MaxPool2DWithIndicesBackward0>)\n"
     ]
    }
   ],
   "source": [
    "maxpool = torch.nn.MaxPool2d(kernel_size=[4, 1], stride=2)\n",
    "\n",
    "output2 = maxpool(output)\n",
    "\n",
    "print(output2)"
   ]
  },
  {
   "cell_type": "code",
   "execution_count": 116,
   "metadata": {},
   "outputs": [],
   "source": [
    "# output2.shape"
   ]
  },
  {
   "cell_type": "code",
   "execution_count": 117,
   "metadata": {},
   "outputs": [
    {
     "name": "stdout",
     "output_type": "stream",
     "text": [
      "tensor([[[[0.0000]],\n",
      "\n",
      "         [[0.2015]],\n",
      "\n",
      "         [[0.0000]],\n",
      "\n",
      "         [[0.0000]],\n",
      "\n",
      "         [[0.1370]],\n",
      "\n",
      "         [[0.0000]]],\n",
      "\n",
      "\n",
      "        [[[0.0000]],\n",
      "\n",
      "         [[0.2015]],\n",
      "\n",
      "         [[0.0000]],\n",
      "\n",
      "         [[0.0000]],\n",
      "\n",
      "         [[0.1370]],\n",
      "\n",
      "         [[0.0000]]]], grad_fn=<ReluBackward0>)\n"
     ]
    }
   ],
   "source": [
    "conv2d_2 = torch.nn.Conv2d(in_channels=3, out_channels=3*2, kernel_size=[2, 1], stride=1)\n",
    "\n",
    "output3 = conv2d_2(output2)\n",
    "\n",
    "output3 = nn.ReLU()(output3)\n",
    "\n",
    "print(output3)"
   ]
  },
  {
   "cell_type": "code",
   "execution_count": 118,
   "metadata": {},
   "outputs": [
    {
     "data": {
      "text/plain": [
       "tensor([[0.0000, 0.2015, 0.0000, 0.0000, 0.1370, 0.0000],\n",
       "        [0.0000, 0.2015, 0.0000, 0.0000, 0.1370, 0.0000]],\n",
       "       grad_fn=<SqueezeBackward1>)"
      ]
     },
     "execution_count": 118,
     "metadata": {},
     "output_type": "execute_result"
    }
   ],
   "source": [
    "output3.squeeze(-1).squeeze(-1)"
   ]
  },
  {
   "cell_type": "code",
   "execution_count": 119,
   "metadata": {},
   "outputs": [],
   "source": [
    "linear = nn.Linear(6, 6)"
   ]
  },
  {
   "cell_type": "code",
   "execution_count": 120,
   "metadata": {},
   "outputs": [
    {
     "data": {
      "text/plain": [
       "tensor([[-0.3906,  0.3673, -0.4096, -0.2764, -0.2987,  0.3283],\n",
       "        [-0.3906,  0.3673, -0.4096, -0.2764, -0.2987,  0.3283]],\n",
       "       grad_fn=<AddmmBackward0>)"
      ]
     },
     "execution_count": 120,
     "metadata": {},
     "output_type": "execute_result"
    }
   ],
   "source": [
    "linear(output3.squeeze(-1).squeeze(-1))"
   ]
  },
  {
   "cell_type": "code",
   "execution_count": null,
   "metadata": {},
   "outputs": [],
   "source": []
  },
  {
   "attachments": {},
   "cell_type": "markdown",
   "metadata": {},
   "source": [
    "1 * f"
   ]
  },
  {
   "cell_type": "code",
   "execution_count": 121,
   "metadata": {},
   "outputs": [
    {
     "name": "stdout",
     "output_type": "stream",
     "text": [
      "tensor([[[[0.0000, 0.0000, 0.0000],\n",
      "          [0.0000, 0.0000, 0.0000],\n",
      "          [0.0000, 0.0000, 0.0000],\n",
      "          [0.0000, 0.0000, 0.0000]],\n",
      "\n",
      "         [[0.0196, 0.0000, 0.0000],\n",
      "          [0.0196, 0.0000, 0.0000],\n",
      "          [0.0196, 0.0000, 0.0000],\n",
      "          [0.0196, 0.0000, 0.0000]],\n",
      "\n",
      "         [[0.0000, 0.0000, 0.0000],\n",
      "          [0.0000, 0.0000, 0.0000],\n",
      "          [0.0000, 0.0000, 0.0000],\n",
      "          [0.0000, 0.0000, 0.0000]]],\n",
      "\n",
      "\n",
      "        [[[0.0000, 0.0000, 0.0000],\n",
      "          [0.0000, 0.0000, 0.0000],\n",
      "          [0.0000, 0.0000, 0.0000],\n",
      "          [0.0000, 0.0000, 0.0000]],\n",
      "\n",
      "         [[0.0196, 0.0000, 0.0000],\n",
      "          [0.0196, 0.0000, 0.0000],\n",
      "          [0.0196, 0.0000, 0.0000],\n",
      "          [0.0196, 0.0000, 0.0000]],\n",
      "\n",
      "         [[0.0000, 0.0000, 0.0000],\n",
      "          [0.0000, 0.0000, 0.0000],\n",
      "          [0.0000, 0.0000, 0.0000],\n",
      "          [0.0000, 0.0000, 0.0000]]]], grad_fn=<ReluBackward0>)\n"
     ]
    }
   ],
   "source": [
    "import numpy as np\n",
    "import torch\n",
    "import torch.nn as nn\n",
    "\n",
    "# Create a sample batch with two images\n",
    "sample = np.array([[\n",
    "                [[0.1, 0.2, 0.3],\n",
    "                [0.1, 0.2, 0.3],\n",
    "                [0.1, 0.2, 0.3],\n",
    "                [0.1, 0.2, 0.3],\n",
    "                [0.1, 0.2, 0.3]]\n",
    "                ],\n",
    "                [\n",
    "                [[0.1, 0.2, 0.3],\n",
    "                [0.1, 0.2, 0.3],\n",
    "                [0.1, 0.2, 0.3],\n",
    "                [0.1, 0.2, 0.3],\n",
    "                [0.1, 0.2, 0.3]]\n",
    "                ]])\n",
    "\n",
    "# Convert the NumPy array to a PyTorch tensor\n",
    "sample_tensor = torch.tensor(sample, dtype=torch.float32)\n",
    "\n",
    "# Define the convolution layer\n",
    "conv2d = torch.nn.Conv2d(in_channels=1, out_channels=3, kernel_size=[2, 1], stride=1)\n",
    "\n",
    "# Apply the convolution operation\n",
    "output = conv2d(sample_tensor)\n",
    "\n",
    "output = nn.ReLU()(output)\n",
    "\n",
    "# Print the result\n",
    "print(output)"
   ]
  },
  {
   "cell_type": "code",
   "execution_count": 122,
   "metadata": {},
   "outputs": [
    {
     "name": "stdout",
     "output_type": "stream",
     "text": [
      "tensor([[[[0.0000, 0.0000, 0.0000],\n",
      "          [0.0000, 0.0000, 0.0000]],\n",
      "\n",
      "         [[0.0196, 0.0000, 0.0000],\n",
      "          [0.0196, 0.0000, 0.0000]],\n",
      "\n",
      "         [[0.0000, 0.0000, 0.0000],\n",
      "          [0.0000, 0.0000, 0.0000]]],\n",
      "\n",
      "\n",
      "        [[[0.0000, 0.0000, 0.0000],\n",
      "          [0.0000, 0.0000, 0.0000]],\n",
      "\n",
      "         [[0.0196, 0.0000, 0.0000],\n",
      "          [0.0196, 0.0000, 0.0000]],\n",
      "\n",
      "         [[0.0000, 0.0000, 0.0000],\n",
      "          [0.0000, 0.0000, 0.0000]]]], grad_fn=<MaxPool2DWithIndicesBackward0>)\n"
     ]
    }
   ],
   "source": [
    "maxpool = torch.nn.MaxPool2d(kernel_size=[2, 1], stride=[2, 1])\n",
    "\n",
    "output2 = maxpool(output)\n",
    "\n",
    "print(output2)"
   ]
  },
  {
   "cell_type": "code",
   "execution_count": 123,
   "metadata": {},
   "outputs": [
    {
     "name": "stdout",
     "output_type": "stream",
     "text": [
      "tensor([[[[0.0000, 0.0000, 0.0000]],\n",
      "\n",
      "         [[0.0000, 0.0000, 0.0000]],\n",
      "\n",
      "         [[0.0000, 0.0000, 0.0000]],\n",
      "\n",
      "         [[0.0000, 0.0001, 0.0001]],\n",
      "\n",
      "         [[0.0000, 0.0000, 0.0000]],\n",
      "\n",
      "         [[0.0000, 0.0000, 0.0000]]],\n",
      "\n",
      "\n",
      "        [[[0.0000, 0.0000, 0.0000]],\n",
      "\n",
      "         [[0.0000, 0.0000, 0.0000]],\n",
      "\n",
      "         [[0.0000, 0.0000, 0.0000]],\n",
      "\n",
      "         [[0.0000, 0.0001, 0.0001]],\n",
      "\n",
      "         [[0.0000, 0.0000, 0.0000]],\n",
      "\n",
      "         [[0.0000, 0.0000, 0.0000]]]], grad_fn=<ReluBackward0>)\n"
     ]
    }
   ],
   "source": [
    "conv2d_2 = torch.nn.Conv2d(in_channels=3, out_channels=3*2, kernel_size=[2, 1], stride=1)\n",
    "\n",
    "output3 = conv2d_2(output2)\n",
    "\n",
    "output3 = nn.ReLU()(output3)\n",
    "\n",
    "print(output3)"
   ]
  },
  {
   "cell_type": "code",
   "execution_count": 124,
   "metadata": {},
   "outputs": [
    {
     "data": {
      "text/plain": [
       "tensor([[0.0000, 0.0000, 0.0000, 0.0000, 0.0000, 0.0000, 0.0000, 0.0000, 0.0000,\n",
       "         0.0000, 0.0001, 0.0001, 0.0000, 0.0000, 0.0000, 0.0000, 0.0000, 0.0000],\n",
       "        [0.0000, 0.0000, 0.0000, 0.0000, 0.0000, 0.0000, 0.0000, 0.0000, 0.0000,\n",
       "         0.0000, 0.0001, 0.0001, 0.0000, 0.0000, 0.0000, 0.0000, 0.0000, 0.0000]],\n",
       "       grad_fn=<ViewBackward0>)"
      ]
     },
     "execution_count": 124,
     "metadata": {},
     "output_type": "execute_result"
    }
   ],
   "source": [
    "output3.squeeze(2).squeeze().view(2, -1)"
   ]
  },
  {
   "cell_type": "code",
   "execution_count": 62,
   "metadata": {},
   "outputs": [
    {
     "data": {
      "text/plain": [
       "torch.Size([2, 6, 3])"
      ]
     },
     "execution_count": 62,
     "metadata": {},
     "output_type": "execute_result"
    }
   ],
   "source": [
    "# output3.squeeze(2).shape"
   ]
  },
  {
   "cell_type": "code",
   "execution_count": 125,
   "metadata": {},
   "outputs": [],
   "source": [
    "linear = nn.Linear(18, 18)"
   ]
  },
  {
   "cell_type": "code",
   "execution_count": 126,
   "metadata": {},
   "outputs": [
    {
     "data": {
      "text/plain": [
       "tensor([[ 0.1454, -0.1280,  0.1212,  0.1041, -0.1520,  0.1633, -0.2259,  0.1657,\n",
       "          0.1884,  0.1912, -0.1242,  0.0899, -0.2008,  0.0369,  0.0685,  0.2056,\n",
       "         -0.2348,  0.1385],\n",
       "        [ 0.1454, -0.1280,  0.1212,  0.1041, -0.1520,  0.1633, -0.2259,  0.1657,\n",
       "          0.1884,  0.1912, -0.1242,  0.0899, -0.2008,  0.0369,  0.0685,  0.2056,\n",
       "         -0.2348,  0.1385]], grad_fn=<AddmmBackward0>)"
      ]
     },
     "execution_count": 126,
     "metadata": {},
     "output_type": "execute_result"
    }
   ],
   "source": [
    "linear(output3.squeeze(2).squeeze().view(2, -1))"
   ]
  },
  {
   "cell_type": "code",
   "execution_count": null,
   "metadata": {},
   "outputs": [],
   "source": []
  },
  {
   "attachments": {},
   "cell_type": "markdown",
   "metadata": {},
   "source": [
    "indiv 1*f"
   ]
  },
  {
   "cell_type": "code",
   "execution_count": 213,
   "metadata": {},
   "outputs": [
    {
     "name": "stdout",
     "output_type": "stream",
     "text": [
      "torch.Size([2, 3, 5])\n"
     ]
    },
    {
     "data": {
      "text/plain": [
       "tensor([[[0.1000, 0.1000, 0.1000, 0.1000, 0.1000],\n",
       "         [0.2000, 0.2000, 0.2000, 0.2000, 0.2000],\n",
       "         [0.3000, 0.3000, 0.3000, 0.3000, 0.3000]],\n",
       "\n",
       "        [[0.1000, 0.1000, 0.1000, 0.1000, 0.1000],\n",
       "         [0.2000, 0.2000, 0.2000, 0.2000, 0.2000],\n",
       "         [0.3000, 0.3000, 0.3000, 0.3000, 0.3000]]])"
      ]
     },
     "execution_count": 213,
     "metadata": {},
     "output_type": "execute_result"
    }
   ],
   "source": [
    "import numpy as np\n",
    "import torch\n",
    "import torch.nn as nn\n",
    "\n",
    "# Create a sample batch with two images\n",
    "sample = np.array([[\n",
    "                [0.1, 0.2, 0.3],\n",
    "                [0.1, 0.2, 0.3],\n",
    "                [0.1, 0.2, 0.3],\n",
    "                [0.1, 0.2, 0.3],\n",
    "                [0.1, 0.2, 0.3]\n",
    "                ],\n",
    "                [\n",
    "                [0.1, 0.2, 0.3],\n",
    "                [0.1, 0.2, 0.3],\n",
    "                [0.1, 0.2, 0.3],\n",
    "                [0.1, 0.2, 0.3],\n",
    "                [0.1, 0.2, 0.3]\n",
    "                ]])\n",
    "\n",
    "# Convert the NumPy array to a PyTorch tensor\n",
    "sample_tensor = torch.tensor(sample, dtype=torch.float32).transpose(1, 2)\n",
    "\n",
    "print(sample_tensor.shape)\n",
    "sample_tensor\n"
   ]
  },
  {
   "cell_type": "code",
   "execution_count": 216,
   "metadata": {},
   "outputs": [
    {
     "name": "stdout",
     "output_type": "stream",
     "text": [
      "tensor([[[0.1984, 0.1984, 0.2037, 0.3487, 0.3487],\n",
      "         [0.1571, 0.1571, 0.0598, 0.0936, 0.0936],\n",
      "         [0.0000, 0.0000, 0.0000, 0.0064, 0.0064],\n",
      "         [0.0208, 0.0208, 0.0000, 0.0000, 0.0000],\n",
      "         [0.2138, 0.2138, 0.1785, 0.0278, 0.0278],\n",
      "         [0.3367, 0.3367, 0.3120, 0.3179, 0.3179]],\n",
      "\n",
      "        [[0.1984, 0.1984, 0.2037, 0.3487, 0.3487],\n",
      "         [0.1571, 0.1571, 0.0598, 0.0936, 0.0936],\n",
      "         [0.0000, 0.0000, 0.0000, 0.0064, 0.0064],\n",
      "         [0.0208, 0.0208, 0.0000, 0.0000, 0.0000],\n",
      "         [0.2138, 0.2138, 0.1785, 0.0278, 0.0278],\n",
      "         [0.3367, 0.3367, 0.3120, 0.3179, 0.3179]]], grad_fn=<ReluBackward0>)\n"
     ]
    }
   ],
   "source": [
    "\n",
    "# Define the convolution layer\n",
    "conv1d = torch.nn.Conv1d(in_channels=3, out_channels=3*2, kernel_size=3, stride=1, padding='same', padding_mode = 'zeros')\n",
    "\n",
    "# Apply the convolution operation\n",
    "output = conv1d(sample_tensor)\n",
    "\n",
    "output = nn.ReLU()(output)\n",
    "\n",
    "# Print the result\n",
    "print(output)"
   ]
  },
  {
   "cell_type": "code",
   "execution_count": 199,
   "metadata": {},
   "outputs": [
    {
     "name": "stdout",
     "output_type": "stream",
     "text": [
      "tensor([[[0.0000, 0.0000, 0.0000],\n",
      "         [0.0000, 0.0000, 0.0000],\n",
      "         [0.0000, 0.0226, 0.0493],\n",
      "         [0.1391, 0.1046, 0.1685],\n",
      "         [0.0000, 0.0000, 0.0000],\n",
      "         [0.0052, 0.0061, 0.0468]],\n",
      "\n",
      "        [[0.0000, 0.0000, 0.0000],\n",
      "         [0.0000, 0.0000, 0.0000],\n",
      "         [0.0000, 0.0226, 0.0493],\n",
      "         [0.1391, 0.1046, 0.1685],\n",
      "         [0.0000, 0.0000, 0.0000],\n",
      "         [0.0052, 0.0061, 0.0468]]], grad_fn=<SqueezeBackward1>)\n"
     ]
    }
   ],
   "source": [
    "maxpool = torch.nn.MaxPool1d(kernel_size=2, stride=2, padding = 1)\n",
    "\n",
    "output2 = maxpool(output)\n",
    "\n",
    "print(output2)"
   ]
  },
  {
   "cell_type": "code",
   "execution_count": 200,
   "metadata": {},
   "outputs": [
    {
     "name": "stdout",
     "output_type": "stream",
     "text": [
      "tensor([[[0.2291, 0.2184, 0.2407],\n",
      "         [0.1103, 0.1311, 0.1052],\n",
      "         [0.0971, 0.0982, 0.1002],\n",
      "         [0.0376, 0.0442, 0.0190],\n",
      "         [0.1258, 0.1471, 0.1385],\n",
      "         [0.1857, 0.1784, 0.1853],\n",
      "         [0.0000, 0.0000, 0.0104],\n",
      "         [0.1618, 0.1515, 0.1572],\n",
      "         [0.0000, 0.0000, 0.0000],\n",
      "         [0.0000, 0.0000, 0.0000],\n",
      "         [0.1718, 0.1852, 0.1579],\n",
      "         [0.0000, 0.0000, 0.0000]],\n",
      "\n",
      "        [[0.2291, 0.2184, 0.2407],\n",
      "         [0.1103, 0.1311, 0.1052],\n",
      "         [0.0971, 0.0982, 0.1002],\n",
      "         [0.0376, 0.0442, 0.0190],\n",
      "         [0.1258, 0.1471, 0.1385],\n",
      "         [0.1857, 0.1784, 0.1853],\n",
      "         [0.0000, 0.0000, 0.0104],\n",
      "         [0.1618, 0.1515, 0.1572],\n",
      "         [0.0000, 0.0000, 0.0000],\n",
      "         [0.0000, 0.0000, 0.0000],\n",
      "         [0.1718, 0.1852, 0.1579],\n",
      "         [0.0000, 0.0000, 0.0000]]], grad_fn=<ReluBackward0>)\n"
     ]
    }
   ],
   "source": [
    "conv1d_2 = torch.nn.Conv1d(in_channels=3*2, out_channels=3*2*2, kernel_size=2, stride=1, padding='same', padding_mode = 'zeros')\n",
    "\n",
    "output3 = conv1d_2(output2) \n",
    "\n",
    "output3 = nn.ReLU()(output3)\n",
    "\n",
    "print(output3)"
   ]
  },
  {
   "cell_type": "code",
   "execution_count": 201,
   "metadata": {},
   "outputs": [
    {
     "name": "stdout",
     "output_type": "stream",
     "text": [
      "tensor([[[0.2291, 0.2407],\n",
      "         [0.1103, 0.1311],\n",
      "         [0.0971, 0.1002],\n",
      "         [0.0376, 0.0442],\n",
      "         [0.1258, 0.1471],\n",
      "         [0.1857, 0.1853],\n",
      "         [0.0000, 0.0104],\n",
      "         [0.1618, 0.1572],\n",
      "         [0.0000, 0.0000],\n",
      "         [0.0000, 0.0000],\n",
      "         [0.1718, 0.1852],\n",
      "         [0.0000, 0.0000]],\n",
      "\n",
      "        [[0.2291, 0.2407],\n",
      "         [0.1103, 0.1311],\n",
      "         [0.0971, 0.1002],\n",
      "         [0.0376, 0.0442],\n",
      "         [0.1258, 0.1471],\n",
      "         [0.1857, 0.1853],\n",
      "         [0.0000, 0.0104],\n",
      "         [0.1618, 0.1572],\n",
      "         [0.0000, 0.0000],\n",
      "         [0.0000, 0.0000],\n",
      "         [0.1718, 0.1852],\n",
      "         [0.0000, 0.0000]]], grad_fn=<SqueezeBackward1>)\n"
     ]
    }
   ],
   "source": [
    "maxpool = torch.nn.MaxPool1d(kernel_size=2, stride=2, padding = 1)\n",
    "\n",
    "output4 = maxpool(output3)\n",
    "\n",
    "print(output4)"
   ]
  },
  {
   "cell_type": "code",
   "execution_count": 208,
   "metadata": {},
   "outputs": [
    {
     "name": "stdout",
     "output_type": "stream",
     "text": [
      "tensor([[[0.0000, 0.0000],\n",
      "         [0.1186, 0.1531],\n",
      "         [0.0000, 0.0000],\n",
      "         [0.0000, 0.0000],\n",
      "         [0.0152, 0.0186],\n",
      "         [0.0000, 0.0137],\n",
      "         [0.0436, 0.0000],\n",
      "         [0.0000, 0.0000],\n",
      "         [0.0000, 0.1179],\n",
      "         [0.0507, 0.1427],\n",
      "         [0.2518, 0.1891],\n",
      "         [0.0553, 0.0169],\n",
      "         [0.0000, 0.0000],\n",
      "         [0.1509, 0.1623],\n",
      "         [0.1290, 0.0254],\n",
      "         [0.0000, 0.0000],\n",
      "         [0.0000, 0.0000],\n",
      "         [0.1077, 0.0000],\n",
      "         [0.0000, 0.0000],\n",
      "         [0.2082, 0.2086],\n",
      "         [0.0000, 0.0000],\n",
      "         [0.0000, 0.0000],\n",
      "         [0.1030, 0.0000],\n",
      "         [0.0000, 0.0000]],\n",
      "\n",
      "        [[0.0000, 0.0000],\n",
      "         [0.1186, 0.1531],\n",
      "         [0.0000, 0.0000],\n",
      "         [0.0000, 0.0000],\n",
      "         [0.0152, 0.0186],\n",
      "         [0.0000, 0.0137],\n",
      "         [0.0436, 0.0000],\n",
      "         [0.0000, 0.0000],\n",
      "         [0.0000, 0.1179],\n",
      "         [0.0507, 0.1427],\n",
      "         [0.2518, 0.1891],\n",
      "         [0.0553, 0.0169],\n",
      "         [0.0000, 0.0000],\n",
      "         [0.1509, 0.1623],\n",
      "         [0.1290, 0.0254],\n",
      "         [0.0000, 0.0000],\n",
      "         [0.0000, 0.0000],\n",
      "         [0.1077, 0.0000],\n",
      "         [0.0000, 0.0000],\n",
      "         [0.2082, 0.2086],\n",
      "         [0.0000, 0.0000],\n",
      "         [0.0000, 0.0000],\n",
      "         [0.1030, 0.0000],\n",
      "         [0.0000, 0.0000]]], grad_fn=<ReluBackward0>)\n"
     ]
    }
   ],
   "source": [
    "conv1d_3 = torch.nn.Conv1d(in_channels=3*2*2, out_channels=3*2*4, kernel_size=2, stride=1, padding='same', padding_mode = 'zeros')\n",
    "\n",
    "output5 = conv1d_3(output4) \n",
    "\n",
    "output5 = nn.ReLU()(output5)\n",
    "\n",
    "print(output5)"
   ]
  },
  {
   "cell_type": "code",
   "execution_count": 209,
   "metadata": {},
   "outputs": [
    {
     "name": "stdout",
     "output_type": "stream",
     "text": [
      "tensor([[[0.0000],\n",
      "         [0.1531],\n",
      "         [0.0000],\n",
      "         [0.0000],\n",
      "         [0.0186],\n",
      "         [0.0137],\n",
      "         [0.0436],\n",
      "         [0.0000],\n",
      "         [0.1179],\n",
      "         [0.1427],\n",
      "         [0.2518],\n",
      "         [0.0553],\n",
      "         [0.0000],\n",
      "         [0.1623],\n",
      "         [0.1290],\n",
      "         [0.0000],\n",
      "         [0.0000],\n",
      "         [0.1077],\n",
      "         [0.0000],\n",
      "         [0.2086],\n",
      "         [0.0000],\n",
      "         [0.0000],\n",
      "         [0.1030],\n",
      "         [0.0000]],\n",
      "\n",
      "        [[0.0000],\n",
      "         [0.1531],\n",
      "         [0.0000],\n",
      "         [0.0000],\n",
      "         [0.0186],\n",
      "         [0.0137],\n",
      "         [0.0436],\n",
      "         [0.0000],\n",
      "         [0.1179],\n",
      "         [0.1427],\n",
      "         [0.2518],\n",
      "         [0.0553],\n",
      "         [0.0000],\n",
      "         [0.1623],\n",
      "         [0.1290],\n",
      "         [0.0000],\n",
      "         [0.0000],\n",
      "         [0.1077],\n",
      "         [0.0000],\n",
      "         [0.2086],\n",
      "         [0.0000],\n",
      "         [0.0000],\n",
      "         [0.1030],\n",
      "         [0.0000]]], grad_fn=<SqueezeBackward1>)\n"
     ]
    }
   ],
   "source": [
    "maxpool = torch.nn.MaxPool1d(kernel_size=2, stride=2, padding = 0)\n",
    "\n",
    "output6 = maxpool(output5)\n",
    "\n",
    "print(output6)"
   ]
  },
  {
   "cell_type": "code",
   "execution_count": 210,
   "metadata": {},
   "outputs": [
    {
     "data": {
      "text/plain": [
       "tensor([[0.0000, 0.1531, 0.0000, 0.0000, 0.0186, 0.0137, 0.0436, 0.0000, 0.1179,\n",
       "         0.1427, 0.2518, 0.0553, 0.0000, 0.1623, 0.1290, 0.0000, 0.0000, 0.1077,\n",
       "         0.0000, 0.2086, 0.0000, 0.0000, 0.1030, 0.0000],\n",
       "        [0.0000, 0.1531, 0.0000, 0.0000, 0.0186, 0.0137, 0.0436, 0.0000, 0.1179,\n",
       "         0.1427, 0.2518, 0.0553, 0.0000, 0.1623, 0.1290, 0.0000, 0.0000, 0.1077,\n",
       "         0.0000, 0.2086, 0.0000, 0.0000, 0.1030, 0.0000]],\n",
       "       grad_fn=<ViewBackward0>)"
      ]
     },
     "execution_count": 210,
     "metadata": {},
     "output_type": "execute_result"
    }
   ],
   "source": [
    "output6.squeeze(-1).view(2, -1)"
   ]
  },
  {
   "cell_type": "code",
   "execution_count": 211,
   "metadata": {},
   "outputs": [
    {
     "data": {
      "text/plain": [
       "torch.Size([2, 24])"
      ]
     },
     "execution_count": 211,
     "metadata": {},
     "output_type": "execute_result"
    }
   ],
   "source": [
    "output6.squeeze(-1).view(2, -1).shape"
   ]
  },
  {
   "cell_type": "code",
   "execution_count": 212,
   "metadata": {},
   "outputs": [],
   "source": [
    "linear = nn.Linear(36, 36)"
   ]
  },
  {
   "cell_type": "code",
   "execution_count": 183,
   "metadata": {},
   "outputs": [
    {
     "data": {
      "text/plain": [
       "tensor([[ 0.1713,  0.0439,  0.1259,  0.0013, -0.0538, -0.1146, -0.0828,  0.1089,\n",
       "         -0.2011, -0.1726,  0.0279, -0.2020, -0.0418,  0.0662, -0.0854, -0.0454,\n",
       "         -0.0550,  0.0886, -0.1903,  0.0798,  0.1003,  0.0180,  0.1123,  0.1244,\n",
       "         -0.2314, -0.0643,  0.1273, -0.1043, -0.0981,  0.0555, -0.2196,  0.0485,\n",
       "         -0.0225,  0.1852,  0.0741,  0.1179],\n",
       "        [ 0.1713,  0.0439,  0.1259,  0.0013, -0.0538, -0.1146, -0.0828,  0.1089,\n",
       "         -0.2011, -0.1726,  0.0279, -0.2020, -0.0418,  0.0662, -0.0854, -0.0454,\n",
       "         -0.0550,  0.0886, -0.1903,  0.0798,  0.1003,  0.0180,  0.1123,  0.1244,\n",
       "         -0.2314, -0.0643,  0.1273, -0.1043, -0.0981,  0.0555, -0.2196,  0.0485,\n",
       "         -0.0225,  0.1852,  0.0741,  0.1179]], grad_fn=<AddmmBackward0>)"
      ]
     },
     "execution_count": 183,
     "metadata": {},
     "output_type": "execute_result"
    }
   ],
   "source": [
    "linear(output4.squeeze(-1).squeeze().view(2, -1))"
   ]
  },
  {
   "cell_type": "code",
   "execution_count": null,
   "metadata": {},
   "outputs": [],
   "source": []
  }
 ],
 "metadata": {
  "kernelspec": {
   "display_name": "base",
   "language": "python",
   "name": "python3"
  },
  "language_info": {
   "codemirror_mode": {
    "name": "ipython",
    "version": 3
   },
   "file_extension": ".py",
   "mimetype": "text/x-python",
   "name": "python",
   "nbconvert_exporter": "python",
   "pygments_lexer": "ipython3",
   "version": "3.9.7"
  },
  "orig_nbformat": 4
 },
 "nbformat": 4,
 "nbformat_minor": 2
}
