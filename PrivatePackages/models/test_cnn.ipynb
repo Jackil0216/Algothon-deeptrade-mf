{
 "cells": [
  {
   "attachments": {},
   "cell_type": "markdown",
   "metadata": {},
   "source": [
    "正常"
   ]
  },
  {
   "cell_type": "code",
   "execution_count": 16,
   "metadata": {},
   "outputs": [
    {
     "name": "stdout",
     "output_type": "stream",
     "text": [
      "tensor([[[[-0.2019],\n",
      "          [-0.2019],\n",
      "          [-0.2019],\n",
      "          [-0.2019]],\n",
      "\n",
      "         [[-0.1466],\n",
      "          [-0.1466],\n",
      "          [-0.1466],\n",
      "          [-0.1466]],\n",
      "\n",
      "         [[ 0.2636],\n",
      "          [ 0.2636],\n",
      "          [ 0.2636],\n",
      "          [ 0.2636]]],\n",
      "\n",
      "\n",
      "        [[[-0.2019],\n",
      "          [-0.2019],\n",
      "          [-0.2019],\n",
      "          [-0.2019]],\n",
      "\n",
      "         [[-0.1466],\n",
      "          [-0.1466],\n",
      "          [-0.1466],\n",
      "          [-0.1466]],\n",
      "\n",
      "         [[ 0.2636],\n",
      "          [ 0.2636],\n",
      "          [ 0.2636],\n",
      "          [ 0.2636]]]], grad_fn=<ConvolutionBackward0>)\n"
     ]
    }
   ],
   "source": [
    "import numpy as np\n",
    "import torch\n",
    "import torch.nn as nn\n",
    "\n",
    "# Create a sample batch with two images\n",
    "sample = np.array([[\n",
    "                [[0.1, 0.2, 0.3],\n",
    "                [0.1, 0.2, 0.3],\n",
    "                [0.1, 0.2, 0.3],\n",
    "                [0.1, 0.2, 0.3],\n",
    "                [0.1, 0.2, 0.3]]\n",
    "                ],\n",
    "                [\n",
    "                [[0.1, 0.2, 0.3],\n",
    "                [0.1, 0.2, 0.3],\n",
    "                [0.1, 0.2, 0.3],\n",
    "                [0.1, 0.2, 0.3],\n",
    "                [0.1, 0.2, 0.3]]\n",
    "                ]])\n",
    "\n",
    "# Convert the NumPy array to a PyTorch tensor\n",
    "sample_tensor = torch.tensor(sample, dtype=torch.float32)\n",
    "\n",
    "# Define the convolution layer\n",
    "conv2d = torch.nn.Conv2d(in_channels=1, out_channels=3, kernel_size=[2, 3], stride=1)\n",
    "\n",
    "\n",
    "\n",
    "\n",
    "# Apply the convolution operation\n",
    "output = conv2d(sample_tensor)\n",
    "\n",
    "\n",
    "# Print the result\n",
    "print(output)\n"
   ]
  },
  {
   "cell_type": "code",
   "execution_count": 17,
   "metadata": {},
   "outputs": [
    {
     "name": "stdout",
     "output_type": "stream",
     "text": [
      "tensor([[[[-0.2019],\n",
      "          [-0.2019]],\n",
      "\n",
      "         [[-0.1466],\n",
      "          [-0.1466]],\n",
      "\n",
      "         [[ 0.2636],\n",
      "          [ 0.2636]]],\n",
      "\n",
      "\n",
      "        [[[-0.2019],\n",
      "          [-0.2019]],\n",
      "\n",
      "         [[-0.1466],\n",
      "          [-0.1466]],\n",
      "\n",
      "         [[ 0.2636],\n",
      "          [ 0.2636]]]], grad_fn=<MaxPool2DWithIndicesBackward0>)\n"
     ]
    }
   ],
   "source": [
    "maxpool = torch.nn.MaxPool2d(kernel_size=[2, 1], stride=2)\n",
    "\n",
    "output2 = maxpool(output)\n",
    "\n",
    "print(output2)"
   ]
  },
  {
   "cell_type": "code",
   "execution_count": 18,
   "metadata": {},
   "outputs": [
    {
     "data": {
      "text/plain": [
       "torch.Size([2, 3, 2, 1])"
      ]
     },
     "execution_count": 18,
     "metadata": {},
     "output_type": "execute_result"
    }
   ],
   "source": [
    "output2.shape"
   ]
  },
  {
   "cell_type": "code",
   "execution_count": 19,
   "metadata": {},
   "outputs": [
    {
     "name": "stdout",
     "output_type": "stream",
     "text": [
      "tensor([[[[ 0.4077]],\n",
      "\n",
      "         [[ 0.3020]],\n",
      "\n",
      "         [[ 0.2059]],\n",
      "\n",
      "         [[ 0.0535]],\n",
      "\n",
      "         [[-0.3177]],\n",
      "\n",
      "         [[ 0.4963]]],\n",
      "\n",
      "\n",
      "        [[[ 0.4077]],\n",
      "\n",
      "         [[ 0.3020]],\n",
      "\n",
      "         [[ 0.2059]],\n",
      "\n",
      "         [[ 0.0535]],\n",
      "\n",
      "         [[-0.3177]],\n",
      "\n",
      "         [[ 0.4963]]]], grad_fn=<ConvolutionBackward0>)\n"
     ]
    }
   ],
   "source": [
    "conv2d_2 = torch.nn.Conv2d(in_channels=3, out_channels=3*2, kernel_size=[2, 1], stride=1)\n",
    "\n",
    "output3 = conv2d_2(output2)\n",
    "\n",
    "print(output3)"
   ]
  },
  {
   "cell_type": "code",
   "execution_count": 20,
   "metadata": {},
   "outputs": [
    {
     "name": "stdout",
     "output_type": "stream",
     "text": [
      "tensor([[ 0.4077],\n",
      "        [ 0.3020],\n",
      "        [ 0.2059],\n",
      "        [ 0.0535],\n",
      "        [-0.3177],\n",
      "        [ 0.4963],\n",
      "        [ 0.4077],\n",
      "        [ 0.3020],\n",
      "        [ 0.2059],\n",
      "        [ 0.0535],\n",
      "        [-0.3177],\n",
      "        [ 0.4963]], grad_fn=<ReshapeAliasBackward0>)\n"
     ]
    }
   ],
   "source": [
    "flattened = output3.view(-1, output3.size(-2), output3.size(-1)).flatten(start_dim=1)\n",
    "print(flattened)"
   ]
  },
  {
   "cell_type": "code",
   "execution_count": 21,
   "metadata": {},
   "outputs": [
    {
     "data": {
      "text/plain": [
       "tensor([[ 0.4077,  0.3020,  0.2059,  0.0535, -0.3177,  0.4963],\n",
       "        [ 0.4077,  0.3020,  0.2059,  0.0535, -0.3177,  0.4963]],\n",
       "       grad_fn=<SqueezeBackward1>)"
      ]
     },
     "execution_count": 21,
     "metadata": {},
     "output_type": "execute_result"
    }
   ],
   "source": [
    "output3.squeeze(-1).squeeze(-1)"
   ]
  },
  {
   "cell_type": "code",
   "execution_count": 22,
   "metadata": {},
   "outputs": [],
   "source": [
    "linear = nn.Linear(6, 6)"
   ]
  },
  {
   "cell_type": "code",
   "execution_count": 23,
   "metadata": {},
   "outputs": [
    {
     "data": {
      "text/plain": [
       "tensor([[0.4312, 0.1090, 0.0821, 0.2245, 0.1628, 0.0890],\n",
       "        [0.4312, 0.1090, 0.0821, 0.2245, 0.1628, 0.0890]],\n",
       "       grad_fn=<AddmmBackward0>)"
      ]
     },
     "execution_count": 23,
     "metadata": {},
     "output_type": "execute_result"
    }
   ],
   "source": [
    "linear(output3.squeeze(-1).squeeze(-1))"
   ]
  },
  {
   "cell_type": "code",
   "execution_count": null,
   "metadata": {},
   "outputs": [],
   "source": []
  }
 ],
 "metadata": {
  "kernelspec": {
   "display_name": "base",
   "language": "python",
   "name": "python3"
  },
  "language_info": {
   "codemirror_mode": {
    "name": "ipython",
    "version": 3
   },
   "file_extension": ".py",
   "mimetype": "text/x-python",
   "name": "python",
   "nbconvert_exporter": "python",
   "pygments_lexer": "ipython3",
   "version": "3.9.7"
  },
  "orig_nbformat": 4
 },
 "nbformat": 4,
 "nbformat_minor": 2
}
